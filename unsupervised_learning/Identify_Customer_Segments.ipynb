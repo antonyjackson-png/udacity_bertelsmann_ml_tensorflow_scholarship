{
 "cells": [
  {
   "cell_type": "markdown",
   "metadata": {},
   "source": [
    "# Project: Identify Customer Segments\n",
    "\n",
    "In this project, you will apply unsupervised learning techniques to identify segments of the population that form the core customer base for a mail-order sales company in Germany. These segments can then be used to direct marketing campaigns towards audiences that will have the highest expected rate of returns. The data that you will use has been provided by our partners at Bertelsmann Arvato Analytics, and represents a real-life data science task.\n",
    "\n",
    "This notebook will help you complete this task by providing a framework within which you will perform your analysis steps. In each step of the project, you will see some text describing the subtask that you will perform, followed by one or more code cells for you to complete your work. **Feel free to add additional code and markdown cells as you go along so that you can explore everything in precise chunks.** The code cells provided in the base template will outline only the major tasks, and will usually not be enough to cover all of the minor tasks that comprise it.\n",
    "\n",
    "It should be noted that while there will be precise guidelines on how you should handle certain tasks in the project, there will also be places where an exact specification is not provided. **There will be times in the project where you will need to make and justify your own decisions on how to treat the data.** These are places where there may not be only one way to handle the data. In real-life tasks, there may be many valid ways to approach an analysis task. One of the most important things you can do is clearly document your approach so that other scientists can understand the decisions you've made.\n",
    "\n",
    "At the end of most sections, there will be a Markdown cell labeled **Discussion**. In these cells, you will report your findings for the completed section, as well as document the decisions that you made in your approach to each subtask. **Your project will be evaluated not just on the code used to complete the tasks outlined, but also your communication about your observations and conclusions at each stage.**"
   ]
  },
  {
   "cell_type": "code",
   "execution_count": 1,
   "metadata": {},
   "outputs": [
    {
     "data": {
      "text/plain": [
       "'\\nImport note: The classroom currently uses sklearn version 0.19.\\nIf you need to use an imputer, it is available in sklearn.preprocessing.Imputer,\\ninstead of sklearn.impute as in newer versions of sklearn.\\n'"
      ]
     },
     "execution_count": 1,
     "metadata": {},
     "output_type": "execute_result"
    }
   ],
   "source": [
    "# import libraries here; add more as necessary\n",
    "import numpy as np\n",
    "import pandas as pd\n",
    "import matplotlib.pyplot as plt\n",
    "import seaborn as sns\n",
    "\n",
    "from sklearn.preprocessing import StandardScaler\n",
    "from sklearn.decomposition import PCA\n",
    "\n",
    "from scipy.stats import rankdata\n",
    "\n",
    "from sklearn.cluster import KMeans\n",
    "\n",
    "# magic word for producing visualizations in notebook\n",
    "%matplotlib inline\n",
    "\n",
    "'''\n",
    "Import note: The classroom currently uses sklearn version 0.19.\n",
    "If you need to use an imputer, it is available in sklearn.preprocessing.Imputer,\n",
    "instead of sklearn.impute as in newer versions of sklearn.\n",
    "'''"
   ]
  },
  {
   "cell_type": "markdown",
   "metadata": {},
   "source": [
    "### Step 0: Load the Data\n",
    "\n",
    "There are four files associated with this project (not including this one):\n",
    "\n",
    "- `Udacity_AZDIAS_Subset.csv`: Demographics data for the general population of Germany; 891211 persons (rows) x 85 features (columns).\n",
    "- `Udacity_CUSTOMERS_Subset.csv`: Demographics data for customers of a mail-order company; 191652 persons (rows) x 85 features (columns).\n",
    "- `Data_Dictionary.md`: Detailed information file about the features in the provided datasets.\n",
    "- `AZDIAS_Feature_Summary.csv`: Summary of feature attributes for demographics data; 85 features (rows) x 4 columns\n",
    "\n",
    "Each row of the demographics files represents a single person, but also includes information outside of individuals, including information about their household, building, and neighborhood. You will use this information to cluster the general population into groups with similar demographic properties. Then, you will see how the people in the customers dataset fit into those created clusters. The hope here is that certain clusters are over-represented in the customers data, as compared to the general population; those over-represented clusters will be assumed to be part of the core userbase. This information can then be used for further applications, such as targeting for a marketing campaign.\n",
    "\n",
    "To start off with, load in the demographics data for the general population into a pandas DataFrame, and do the same for the feature attributes summary. Note for all of the `.csv` data files in this project: they're semicolon (`;`) delimited, so you'll need an additional argument in your [`read_csv()`](https://pandas.pydata.org/pandas-docs/stable/generated/pandas.read_csv.html) call to read in the data properly. Also, considering the size of the main dataset, it may take some time for it to load completely.\n",
    "\n",
    "Once the dataset is loaded, it's recommended that you take a little bit of time just browsing the general structure of the dataset and feature summary file. You'll be getting deep into the innards of the cleaning in the first major step of the project, so gaining some general familiarity can help you get your bearings."
   ]
  },
  {
   "cell_type": "markdown",
   "metadata": {},
   "source": [
    "#### Data Dictionary"
   ]
  },
  {
   "cell_type": "code",
   "execution_count": 2,
   "metadata": {},
   "outputs": [],
   "source": [
    "# %load Data_Dictionary.md"
   ]
  },
  {
   "cell_type": "markdown",
   "metadata": {},
   "source": [
    "#### Azdias Data Files"
   ]
  },
  {
   "cell_type": "code",
   "execution_count": 3,
   "metadata": {},
   "outputs": [],
   "source": [
    "# Load in the general demographics data.\n",
    "azdias = pd.read_csv('Udacity_AZDIAS_Subset.csv', sep=';')\n",
    "\n",
    "# Load in the feature summary file.\n",
    "feat_info = pd.read_csv('AZDIAS_Feature_Summary.csv', sep=';')"
   ]
  },
  {
   "cell_type": "code",
   "execution_count": 4,
   "metadata": {},
   "outputs": [
    {
     "data": {
      "text/html": [
       "<div>\n",
       "<style scoped>\n",
       "    .dataframe tbody tr th:only-of-type {\n",
       "        vertical-align: middle;\n",
       "    }\n",
       "\n",
       "    .dataframe tbody tr th {\n",
       "        vertical-align: top;\n",
       "    }\n",
       "\n",
       "    .dataframe thead th {\n",
       "        text-align: right;\n",
       "    }\n",
       "</style>\n",
       "<table border=\"1\" class=\"dataframe\">\n",
       "  <thead>\n",
       "    <tr style=\"text-align: right;\">\n",
       "      <th></th>\n",
       "      <th>AGER_TYP</th>\n",
       "      <th>ALTERSKATEGORIE_GROB</th>\n",
       "      <th>ANREDE_KZ</th>\n",
       "      <th>CJT_GESAMTTYP</th>\n",
       "      <th>FINANZ_MINIMALIST</th>\n",
       "      <th>FINANZ_SPARER</th>\n",
       "      <th>FINANZ_VORSORGER</th>\n",
       "      <th>FINANZ_ANLEGER</th>\n",
       "      <th>FINANZ_UNAUFFAELLIGER</th>\n",
       "      <th>FINANZ_HAUSBAUER</th>\n",
       "      <th>...</th>\n",
       "      <th>PLZ8_ANTG1</th>\n",
       "      <th>PLZ8_ANTG2</th>\n",
       "      <th>PLZ8_ANTG3</th>\n",
       "      <th>PLZ8_ANTG4</th>\n",
       "      <th>PLZ8_BAUMAX</th>\n",
       "      <th>PLZ8_HHZ</th>\n",
       "      <th>PLZ8_GBZ</th>\n",
       "      <th>ARBEIT</th>\n",
       "      <th>ORTSGR_KLS9</th>\n",
       "      <th>RELAT_AB</th>\n",
       "    </tr>\n",
       "  </thead>\n",
       "  <tbody>\n",
       "    <tr>\n",
       "      <th>0</th>\n",
       "      <td>-1</td>\n",
       "      <td>2</td>\n",
       "      <td>1</td>\n",
       "      <td>2.0</td>\n",
       "      <td>3</td>\n",
       "      <td>4</td>\n",
       "      <td>3</td>\n",
       "      <td>5</td>\n",
       "      <td>5</td>\n",
       "      <td>3</td>\n",
       "      <td>...</td>\n",
       "      <td>NaN</td>\n",
       "      <td>NaN</td>\n",
       "      <td>NaN</td>\n",
       "      <td>NaN</td>\n",
       "      <td>NaN</td>\n",
       "      <td>NaN</td>\n",
       "      <td>NaN</td>\n",
       "      <td>NaN</td>\n",
       "      <td>NaN</td>\n",
       "      <td>NaN</td>\n",
       "    </tr>\n",
       "    <tr>\n",
       "      <th>1</th>\n",
       "      <td>-1</td>\n",
       "      <td>1</td>\n",
       "      <td>2</td>\n",
       "      <td>5.0</td>\n",
       "      <td>1</td>\n",
       "      <td>5</td>\n",
       "      <td>2</td>\n",
       "      <td>5</td>\n",
       "      <td>4</td>\n",
       "      <td>5</td>\n",
       "      <td>...</td>\n",
       "      <td>2.0</td>\n",
       "      <td>3.0</td>\n",
       "      <td>2.0</td>\n",
       "      <td>1.0</td>\n",
       "      <td>1.0</td>\n",
       "      <td>5.0</td>\n",
       "      <td>4.0</td>\n",
       "      <td>3.0</td>\n",
       "      <td>5.0</td>\n",
       "      <td>4.0</td>\n",
       "    </tr>\n",
       "    <tr>\n",
       "      <th>2</th>\n",
       "      <td>-1</td>\n",
       "      <td>3</td>\n",
       "      <td>2</td>\n",
       "      <td>3.0</td>\n",
       "      <td>1</td>\n",
       "      <td>4</td>\n",
       "      <td>1</td>\n",
       "      <td>2</td>\n",
       "      <td>3</td>\n",
       "      <td>5</td>\n",
       "      <td>...</td>\n",
       "      <td>3.0</td>\n",
       "      <td>3.0</td>\n",
       "      <td>1.0</td>\n",
       "      <td>0.0</td>\n",
       "      <td>1.0</td>\n",
       "      <td>4.0</td>\n",
       "      <td>4.0</td>\n",
       "      <td>3.0</td>\n",
       "      <td>5.0</td>\n",
       "      <td>2.0</td>\n",
       "    </tr>\n",
       "    <tr>\n",
       "      <th>3</th>\n",
       "      <td>2</td>\n",
       "      <td>4</td>\n",
       "      <td>2</td>\n",
       "      <td>2.0</td>\n",
       "      <td>4</td>\n",
       "      <td>2</td>\n",
       "      <td>5</td>\n",
       "      <td>2</td>\n",
       "      <td>1</td>\n",
       "      <td>2</td>\n",
       "      <td>...</td>\n",
       "      <td>2.0</td>\n",
       "      <td>2.0</td>\n",
       "      <td>2.0</td>\n",
       "      <td>0.0</td>\n",
       "      <td>1.0</td>\n",
       "      <td>3.0</td>\n",
       "      <td>4.0</td>\n",
       "      <td>2.0</td>\n",
       "      <td>3.0</td>\n",
       "      <td>3.0</td>\n",
       "    </tr>\n",
       "    <tr>\n",
       "      <th>4</th>\n",
       "      <td>-1</td>\n",
       "      <td>3</td>\n",
       "      <td>1</td>\n",
       "      <td>5.0</td>\n",
       "      <td>4</td>\n",
       "      <td>3</td>\n",
       "      <td>4</td>\n",
       "      <td>1</td>\n",
       "      <td>3</td>\n",
       "      <td>2</td>\n",
       "      <td>...</td>\n",
       "      <td>2.0</td>\n",
       "      <td>4.0</td>\n",
       "      <td>2.0</td>\n",
       "      <td>1.0</td>\n",
       "      <td>2.0</td>\n",
       "      <td>3.0</td>\n",
       "      <td>3.0</td>\n",
       "      <td>4.0</td>\n",
       "      <td>6.0</td>\n",
       "      <td>5.0</td>\n",
       "    </tr>\n",
       "  </tbody>\n",
       "</table>\n",
       "<p>5 rows × 85 columns</p>\n",
       "</div>"
      ],
      "text/plain": [
       "   AGER_TYP  ALTERSKATEGORIE_GROB  ANREDE_KZ  CJT_GESAMTTYP  \\\n",
       "0        -1                     2          1            2.0   \n",
       "1        -1                     1          2            5.0   \n",
       "2        -1                     3          2            3.0   \n",
       "3         2                     4          2            2.0   \n",
       "4        -1                     3          1            5.0   \n",
       "\n",
       "   FINANZ_MINIMALIST  FINANZ_SPARER  FINANZ_VORSORGER  FINANZ_ANLEGER  \\\n",
       "0                  3              4                 3               5   \n",
       "1                  1              5                 2               5   \n",
       "2                  1              4                 1               2   \n",
       "3                  4              2                 5               2   \n",
       "4                  4              3                 4               1   \n",
       "\n",
       "   FINANZ_UNAUFFAELLIGER  FINANZ_HAUSBAUER    ...     PLZ8_ANTG1  PLZ8_ANTG2  \\\n",
       "0                      5                 3    ...            NaN         NaN   \n",
       "1                      4                 5    ...            2.0         3.0   \n",
       "2                      3                 5    ...            3.0         3.0   \n",
       "3                      1                 2    ...            2.0         2.0   \n",
       "4                      3                 2    ...            2.0         4.0   \n",
       "\n",
       "   PLZ8_ANTG3  PLZ8_ANTG4  PLZ8_BAUMAX  PLZ8_HHZ  PLZ8_GBZ  ARBEIT  \\\n",
       "0         NaN         NaN          NaN       NaN       NaN     NaN   \n",
       "1         2.0         1.0          1.0       5.0       4.0     3.0   \n",
       "2         1.0         0.0          1.0       4.0       4.0     3.0   \n",
       "3         2.0         0.0          1.0       3.0       4.0     2.0   \n",
       "4         2.0         1.0          2.0       3.0       3.0     4.0   \n",
       "\n",
       "   ORTSGR_KLS9  RELAT_AB  \n",
       "0          NaN       NaN  \n",
       "1          5.0       4.0  \n",
       "2          5.0       2.0  \n",
       "3          3.0       3.0  \n",
       "4          6.0       5.0  \n",
       "\n",
       "[5 rows x 85 columns]"
      ]
     },
     "execution_count": 4,
     "metadata": {},
     "output_type": "execute_result"
    }
   ],
   "source": [
    "# Check the structure of the data after it's loaded (e.g. print the number of\n",
    "# rows and columns, print the first few rows).\n",
    "\n",
    "# Print first 5 observations of dataset\n",
    "azdias.head(5)"
   ]
  },
  {
   "cell_type": "code",
   "execution_count": 5,
   "metadata": {},
   "outputs": [
    {
     "name": "stdout",
     "output_type": "stream",
     "text": [
      "<class 'pandas.core.frame.DataFrame'>\n",
      "RangeIndex: 891221 entries, 0 to 891220\n",
      "Data columns (total 85 columns):\n",
      "AGER_TYP                 891221 non-null int64\n",
      "ALTERSKATEGORIE_GROB     891221 non-null int64\n",
      "ANREDE_KZ                891221 non-null int64\n",
      "CJT_GESAMTTYP            886367 non-null float64\n",
      "FINANZ_MINIMALIST        891221 non-null int64\n",
      "FINANZ_SPARER            891221 non-null int64\n",
      "FINANZ_VORSORGER         891221 non-null int64\n",
      "FINANZ_ANLEGER           891221 non-null int64\n",
      "FINANZ_UNAUFFAELLIGER    891221 non-null int64\n",
      "FINANZ_HAUSBAUER         891221 non-null int64\n",
      "FINANZTYP                891221 non-null int64\n",
      "GEBURTSJAHR              891221 non-null int64\n",
      "GFK_URLAUBERTYP          886367 non-null float64\n",
      "GREEN_AVANTGARDE         891221 non-null int64\n",
      "HEALTH_TYP               891221 non-null int64\n",
      "LP_LEBENSPHASE_FEIN      886367 non-null float64\n",
      "LP_LEBENSPHASE_GROB      886367 non-null float64\n",
      "LP_FAMILIE_FEIN          886367 non-null float64\n",
      "LP_FAMILIE_GROB          886367 non-null float64\n",
      "LP_STATUS_FEIN           886367 non-null float64\n",
      "LP_STATUS_GROB           886367 non-null float64\n",
      "NATIONALITAET_KZ         891221 non-null int64\n",
      "PRAEGENDE_JUGENDJAHRE    891221 non-null int64\n",
      "RETOURTYP_BK_S           886367 non-null float64\n",
      "SEMIO_SOZ                891221 non-null int64\n",
      "SEMIO_FAM                891221 non-null int64\n",
      "SEMIO_REL                891221 non-null int64\n",
      "SEMIO_MAT                891221 non-null int64\n",
      "SEMIO_VERT               891221 non-null int64\n",
      "SEMIO_LUST               891221 non-null int64\n",
      "SEMIO_ERL                891221 non-null int64\n",
      "SEMIO_KULT               891221 non-null int64\n",
      "SEMIO_RAT                891221 non-null int64\n",
      "SEMIO_KRIT               891221 non-null int64\n",
      "SEMIO_DOM                891221 non-null int64\n",
      "SEMIO_KAEM               891221 non-null int64\n",
      "SEMIO_PFLICHT            891221 non-null int64\n",
      "SEMIO_TRADV              891221 non-null int64\n",
      "SHOPPER_TYP              891221 non-null int64\n",
      "SOHO_KZ                  817722 non-null float64\n",
      "TITEL_KZ                 817722 non-null float64\n",
      "VERS_TYP                 891221 non-null int64\n",
      "ZABEOTYP                 891221 non-null int64\n",
      "ALTER_HH                 817722 non-null float64\n",
      "ANZ_PERSONEN             817722 non-null float64\n",
      "ANZ_TITEL                817722 non-null float64\n",
      "HH_EINKOMMEN_SCORE       872873 non-null float64\n",
      "KK_KUNDENTYP             306609 non-null float64\n",
      "W_KEIT_KIND_HH           783619 non-null float64\n",
      "WOHNDAUER_2008           817722 non-null float64\n",
      "ANZ_HAUSHALTE_AKTIV      798073 non-null float64\n",
      "ANZ_HH_TITEL             794213 non-null float64\n",
      "GEBAEUDETYP              798073 non-null float64\n",
      "KONSUMNAEHE              817252 non-null float64\n",
      "MIN_GEBAEUDEJAHR         798073 non-null float64\n",
      "OST_WEST_KZ              798073 non-null object\n",
      "WOHNLAGE                 798073 non-null float64\n",
      "CAMEO_DEUG_2015          792242 non-null object\n",
      "CAMEO_DEU_2015           792242 non-null object\n",
      "CAMEO_INTL_2015          792242 non-null object\n",
      "KBA05_ANTG1              757897 non-null float64\n",
      "KBA05_ANTG2              757897 non-null float64\n",
      "KBA05_ANTG3              757897 non-null float64\n",
      "KBA05_ANTG4              757897 non-null float64\n",
      "KBA05_BAUMAX             757897 non-null float64\n",
      "KBA05_GBZ                757897 non-null float64\n",
      "BALLRAUM                 797481 non-null float64\n",
      "EWDICHTE                 797481 non-null float64\n",
      "INNENSTADT               797481 non-null float64\n",
      "GEBAEUDETYP_RASTER       798066 non-null float64\n",
      "KKK                      770025 non-null float64\n",
      "MOBI_REGIO               757897 non-null float64\n",
      "ONLINE_AFFINITAET        886367 non-null float64\n",
      "REGIOTYP                 770025 non-null float64\n",
      "KBA13_ANZAHL_PKW         785421 non-null float64\n",
      "PLZ8_ANTG1               774706 non-null float64\n",
      "PLZ8_ANTG2               774706 non-null float64\n",
      "PLZ8_ANTG3               774706 non-null float64\n",
      "PLZ8_ANTG4               774706 non-null float64\n",
      "PLZ8_BAUMAX              774706 non-null float64\n",
      "PLZ8_HHZ                 774706 non-null float64\n",
      "PLZ8_GBZ                 774706 non-null float64\n",
      "ARBEIT                   794005 non-null float64\n",
      "ORTSGR_KLS9              794005 non-null float64\n",
      "RELAT_AB                 794005 non-null float64\n",
      "dtypes: float64(49), int64(32), object(4)\n",
      "memory usage: 578.0+ MB\n"
     ]
    }
   ],
   "source": [
    "# Print feature types\n",
    "azdias.info()"
   ]
  },
  {
   "cell_type": "code",
   "execution_count": 6,
   "metadata": {},
   "outputs": [
    {
     "data": {
      "text/html": [
       "<div>\n",
       "<style scoped>\n",
       "    .dataframe tbody tr th:only-of-type {\n",
       "        vertical-align: middle;\n",
       "    }\n",
       "\n",
       "    .dataframe tbody tr th {\n",
       "        vertical-align: top;\n",
       "    }\n",
       "\n",
       "    .dataframe thead th {\n",
       "        text-align: right;\n",
       "    }\n",
       "</style>\n",
       "<table border=\"1\" class=\"dataframe\">\n",
       "  <thead>\n",
       "    <tr style=\"text-align: right;\">\n",
       "      <th></th>\n",
       "      <th>AGER_TYP</th>\n",
       "      <th>ALTERSKATEGORIE_GROB</th>\n",
       "      <th>ANREDE_KZ</th>\n",
       "      <th>CJT_GESAMTTYP</th>\n",
       "      <th>FINANZ_MINIMALIST</th>\n",
       "      <th>FINANZ_SPARER</th>\n",
       "      <th>FINANZ_VORSORGER</th>\n",
       "      <th>FINANZ_ANLEGER</th>\n",
       "      <th>FINANZ_UNAUFFAELLIGER</th>\n",
       "      <th>FINANZ_HAUSBAUER</th>\n",
       "      <th>...</th>\n",
       "      <th>PLZ8_ANTG1</th>\n",
       "      <th>PLZ8_ANTG2</th>\n",
       "      <th>PLZ8_ANTG3</th>\n",
       "      <th>PLZ8_ANTG4</th>\n",
       "      <th>PLZ8_BAUMAX</th>\n",
       "      <th>PLZ8_HHZ</th>\n",
       "      <th>PLZ8_GBZ</th>\n",
       "      <th>ARBEIT</th>\n",
       "      <th>ORTSGR_KLS9</th>\n",
       "      <th>RELAT_AB</th>\n",
       "    </tr>\n",
       "  </thead>\n",
       "  <tbody>\n",
       "    <tr>\n",
       "      <th>count</th>\n",
       "      <td>891221.000000</td>\n",
       "      <td>891221.000000</td>\n",
       "      <td>891221.000000</td>\n",
       "      <td>886367.000000</td>\n",
       "      <td>891221.000000</td>\n",
       "      <td>891221.000000</td>\n",
       "      <td>891221.000000</td>\n",
       "      <td>891221.000000</td>\n",
       "      <td>891221.000000</td>\n",
       "      <td>891221.000000</td>\n",
       "      <td>...</td>\n",
       "      <td>774706.000000</td>\n",
       "      <td>774706.000000</td>\n",
       "      <td>774706.000000</td>\n",
       "      <td>774706.000000</td>\n",
       "      <td>774706.000000</td>\n",
       "      <td>774706.000000</td>\n",
       "      <td>774706.000000</td>\n",
       "      <td>794005.000000</td>\n",
       "      <td>794005.000000</td>\n",
       "      <td>794005.00000</td>\n",
       "    </tr>\n",
       "    <tr>\n",
       "      <th>mean</th>\n",
       "      <td>-0.358435</td>\n",
       "      <td>2.777398</td>\n",
       "      <td>1.522098</td>\n",
       "      <td>3.632838</td>\n",
       "      <td>3.074528</td>\n",
       "      <td>2.821039</td>\n",
       "      <td>3.401106</td>\n",
       "      <td>3.033328</td>\n",
       "      <td>2.874167</td>\n",
       "      <td>3.075121</td>\n",
       "      <td>...</td>\n",
       "      <td>2.253330</td>\n",
       "      <td>2.801858</td>\n",
       "      <td>1.595426</td>\n",
       "      <td>0.699166</td>\n",
       "      <td>1.943913</td>\n",
       "      <td>3.612821</td>\n",
       "      <td>3.381087</td>\n",
       "      <td>3.167854</td>\n",
       "      <td>5.293002</td>\n",
       "      <td>3.07222</td>\n",
       "    </tr>\n",
       "    <tr>\n",
       "      <th>std</th>\n",
       "      <td>1.198724</td>\n",
       "      <td>1.068775</td>\n",
       "      <td>0.499512</td>\n",
       "      <td>1.595021</td>\n",
       "      <td>1.321055</td>\n",
       "      <td>1.464749</td>\n",
       "      <td>1.322134</td>\n",
       "      <td>1.529603</td>\n",
       "      <td>1.486731</td>\n",
       "      <td>1.353248</td>\n",
       "      <td>...</td>\n",
       "      <td>0.972008</td>\n",
       "      <td>0.920309</td>\n",
       "      <td>0.986736</td>\n",
       "      <td>0.727137</td>\n",
       "      <td>1.459654</td>\n",
       "      <td>0.973967</td>\n",
       "      <td>1.111598</td>\n",
       "      <td>1.002376</td>\n",
       "      <td>2.303739</td>\n",
       "      <td>1.36298</td>\n",
       "    </tr>\n",
       "    <tr>\n",
       "      <th>min</th>\n",
       "      <td>-1.000000</td>\n",
       "      <td>1.000000</td>\n",
       "      <td>1.000000</td>\n",
       "      <td>1.000000</td>\n",
       "      <td>1.000000</td>\n",
       "      <td>1.000000</td>\n",
       "      <td>1.000000</td>\n",
       "      <td>1.000000</td>\n",
       "      <td>1.000000</td>\n",
       "      <td>1.000000</td>\n",
       "      <td>...</td>\n",
       "      <td>0.000000</td>\n",
       "      <td>0.000000</td>\n",
       "      <td>0.000000</td>\n",
       "      <td>0.000000</td>\n",
       "      <td>1.000000</td>\n",
       "      <td>1.000000</td>\n",
       "      <td>1.000000</td>\n",
       "      <td>1.000000</td>\n",
       "      <td>0.000000</td>\n",
       "      <td>1.00000</td>\n",
       "    </tr>\n",
       "    <tr>\n",
       "      <th>25%</th>\n",
       "      <td>-1.000000</td>\n",
       "      <td>2.000000</td>\n",
       "      <td>1.000000</td>\n",
       "      <td>2.000000</td>\n",
       "      <td>2.000000</td>\n",
       "      <td>1.000000</td>\n",
       "      <td>3.000000</td>\n",
       "      <td>2.000000</td>\n",
       "      <td>2.000000</td>\n",
       "      <td>2.000000</td>\n",
       "      <td>...</td>\n",
       "      <td>1.000000</td>\n",
       "      <td>2.000000</td>\n",
       "      <td>1.000000</td>\n",
       "      <td>0.000000</td>\n",
       "      <td>1.000000</td>\n",
       "      <td>3.000000</td>\n",
       "      <td>3.000000</td>\n",
       "      <td>3.000000</td>\n",
       "      <td>4.000000</td>\n",
       "      <td>2.00000</td>\n",
       "    </tr>\n",
       "    <tr>\n",
       "      <th>50%</th>\n",
       "      <td>-1.000000</td>\n",
       "      <td>3.000000</td>\n",
       "      <td>2.000000</td>\n",
       "      <td>4.000000</td>\n",
       "      <td>3.000000</td>\n",
       "      <td>3.000000</td>\n",
       "      <td>3.000000</td>\n",
       "      <td>3.000000</td>\n",
       "      <td>3.000000</td>\n",
       "      <td>3.000000</td>\n",
       "      <td>...</td>\n",
       "      <td>2.000000</td>\n",
       "      <td>3.000000</td>\n",
       "      <td>2.000000</td>\n",
       "      <td>1.000000</td>\n",
       "      <td>1.000000</td>\n",
       "      <td>4.000000</td>\n",
       "      <td>3.000000</td>\n",
       "      <td>3.000000</td>\n",
       "      <td>5.000000</td>\n",
       "      <td>3.00000</td>\n",
       "    </tr>\n",
       "    <tr>\n",
       "      <th>75%</th>\n",
       "      <td>-1.000000</td>\n",
       "      <td>4.000000</td>\n",
       "      <td>2.000000</td>\n",
       "      <td>5.000000</td>\n",
       "      <td>4.000000</td>\n",
       "      <td>4.000000</td>\n",
       "      <td>5.000000</td>\n",
       "      <td>5.000000</td>\n",
       "      <td>4.000000</td>\n",
       "      <td>4.000000</td>\n",
       "      <td>...</td>\n",
       "      <td>3.000000</td>\n",
       "      <td>3.000000</td>\n",
       "      <td>2.000000</td>\n",
       "      <td>1.000000</td>\n",
       "      <td>3.000000</td>\n",
       "      <td>4.000000</td>\n",
       "      <td>4.000000</td>\n",
       "      <td>4.000000</td>\n",
       "      <td>7.000000</td>\n",
       "      <td>4.00000</td>\n",
       "    </tr>\n",
       "    <tr>\n",
       "      <th>max</th>\n",
       "      <td>3.000000</td>\n",
       "      <td>9.000000</td>\n",
       "      <td>2.000000</td>\n",
       "      <td>6.000000</td>\n",
       "      <td>5.000000</td>\n",
       "      <td>5.000000</td>\n",
       "      <td>5.000000</td>\n",
       "      <td>5.000000</td>\n",
       "      <td>5.000000</td>\n",
       "      <td>5.000000</td>\n",
       "      <td>...</td>\n",
       "      <td>4.000000</td>\n",
       "      <td>4.000000</td>\n",
       "      <td>3.000000</td>\n",
       "      <td>2.000000</td>\n",
       "      <td>5.000000</td>\n",
       "      <td>5.000000</td>\n",
       "      <td>5.000000</td>\n",
       "      <td>9.000000</td>\n",
       "      <td>9.000000</td>\n",
       "      <td>9.00000</td>\n",
       "    </tr>\n",
       "  </tbody>\n",
       "</table>\n",
       "<p>8 rows × 81 columns</p>\n",
       "</div>"
      ],
      "text/plain": [
       "            AGER_TYP  ALTERSKATEGORIE_GROB      ANREDE_KZ  CJT_GESAMTTYP  \\\n",
       "count  891221.000000         891221.000000  891221.000000  886367.000000   \n",
       "mean       -0.358435              2.777398       1.522098       3.632838   \n",
       "std         1.198724              1.068775       0.499512       1.595021   \n",
       "min        -1.000000              1.000000       1.000000       1.000000   \n",
       "25%        -1.000000              2.000000       1.000000       2.000000   \n",
       "50%        -1.000000              3.000000       2.000000       4.000000   \n",
       "75%        -1.000000              4.000000       2.000000       5.000000   \n",
       "max         3.000000              9.000000       2.000000       6.000000   \n",
       "\n",
       "       FINANZ_MINIMALIST  FINANZ_SPARER  FINANZ_VORSORGER  FINANZ_ANLEGER  \\\n",
       "count      891221.000000  891221.000000     891221.000000   891221.000000   \n",
       "mean            3.074528       2.821039          3.401106        3.033328   \n",
       "std             1.321055       1.464749          1.322134        1.529603   \n",
       "min             1.000000       1.000000          1.000000        1.000000   \n",
       "25%             2.000000       1.000000          3.000000        2.000000   \n",
       "50%             3.000000       3.000000          3.000000        3.000000   \n",
       "75%             4.000000       4.000000          5.000000        5.000000   \n",
       "max             5.000000       5.000000          5.000000        5.000000   \n",
       "\n",
       "       FINANZ_UNAUFFAELLIGER  FINANZ_HAUSBAUER      ...          PLZ8_ANTG1  \\\n",
       "count          891221.000000     891221.000000      ...       774706.000000   \n",
       "mean                2.874167          3.075121      ...            2.253330   \n",
       "std                 1.486731          1.353248      ...            0.972008   \n",
       "min                 1.000000          1.000000      ...            0.000000   \n",
       "25%                 2.000000          2.000000      ...            1.000000   \n",
       "50%                 3.000000          3.000000      ...            2.000000   \n",
       "75%                 4.000000          4.000000      ...            3.000000   \n",
       "max                 5.000000          5.000000      ...            4.000000   \n",
       "\n",
       "          PLZ8_ANTG2     PLZ8_ANTG3     PLZ8_ANTG4    PLZ8_BAUMAX  \\\n",
       "count  774706.000000  774706.000000  774706.000000  774706.000000   \n",
       "mean        2.801858       1.595426       0.699166       1.943913   \n",
       "std         0.920309       0.986736       0.727137       1.459654   \n",
       "min         0.000000       0.000000       0.000000       1.000000   \n",
       "25%         2.000000       1.000000       0.000000       1.000000   \n",
       "50%         3.000000       2.000000       1.000000       1.000000   \n",
       "75%         3.000000       2.000000       1.000000       3.000000   \n",
       "max         4.000000       3.000000       2.000000       5.000000   \n",
       "\n",
       "            PLZ8_HHZ       PLZ8_GBZ         ARBEIT    ORTSGR_KLS9  \\\n",
       "count  774706.000000  774706.000000  794005.000000  794005.000000   \n",
       "mean        3.612821       3.381087       3.167854       5.293002   \n",
       "std         0.973967       1.111598       1.002376       2.303739   \n",
       "min         1.000000       1.000000       1.000000       0.000000   \n",
       "25%         3.000000       3.000000       3.000000       4.000000   \n",
       "50%         4.000000       3.000000       3.000000       5.000000   \n",
       "75%         4.000000       4.000000       4.000000       7.000000   \n",
       "max         5.000000       5.000000       9.000000       9.000000   \n",
       "\n",
       "           RELAT_AB  \n",
       "count  794005.00000  \n",
       "mean        3.07222  \n",
       "std         1.36298  \n",
       "min         1.00000  \n",
       "25%         2.00000  \n",
       "50%         3.00000  \n",
       "75%         4.00000  \n",
       "max         9.00000  \n",
       "\n",
       "[8 rows x 81 columns]"
      ]
     },
     "execution_count": 6,
     "metadata": {},
     "output_type": "execute_result"
    }
   ],
   "source": [
    "# Summarize features\n",
    "azdias.describe()"
   ]
  },
  {
   "cell_type": "markdown",
   "metadata": {},
   "source": [
    "> **Tip**: Add additional cells to keep everything in reasonably-sized chunks! Keyboard shortcut `esc --> a` (press escape to enter command mode, then press the 'A' key) adds a new cell before the active cell, and `esc --> b` adds a new cell after the active cell. If you need to convert an active cell to a markdown cell, use `esc --> m` and to convert to a code cell, use `esc --> y`. \n",
    "\n",
    "## Step 1: Preprocessing\n",
    "\n",
    "### Step 1.1: Assess Missing Data\n",
    "\n",
    "The feature summary file contains a summary of properties for each demographics data column. You will use this file to help you make cleaning decisions during this stage of the project. First of all, you should assess the demographics data in terms of missing data. Pay attention to the following points as you perform your analysis, and take notes on what you observe. Make sure that you fill in the **Discussion** cell with your findings and decisions at the end of each step that has one!\n",
    "\n",
    "#### Step 1.1.1: Convert Missing Value Codes to NaNs\n",
    "The fourth column of the feature attributes summary (loaded in above as `feat_info`) documents the codes from the data dictionary that indicate missing or unknown data. While the file encodes this as a list (e.g. `[-1,0]`), this will get read in as a string object. You'll need to do a little bit of parsing to make use of it to identify and clean the data. Convert data that matches a 'missing' or 'unknown' value code into a numpy NaN value. You might want to see how much data takes on a 'missing' or 'unknown' code, and how much data is naturally missing, as a point of interest.\n",
    "\n",
    "**As one more reminder, you are encouraged to add additional cells to break up your analysis into manageable chunks.**"
   ]
  },
  {
   "cell_type": "code",
   "execution_count": 7,
   "metadata": {},
   "outputs": [
    {
     "data": {
      "text/plain": [
       "4896838"
      ]
     },
     "execution_count": 7,
     "metadata": {},
     "output_type": "execute_result"
    }
   ],
   "source": [
    "# 'Natural' missing data summary\n",
    "natural_missing = azdias.isnull().sum()\n",
    "natural_missing.sum()"
   ]
  },
  {
   "cell_type": "code",
   "execution_count": 8,
   "metadata": {},
   "outputs": [],
   "source": [
    "# # Function to parse 'missing_or_unknown' column into a list of integers\n",
    "def parse_missing(string):\n",
    "    # remove '[' and ']' characters\n",
    "    string = string.replace('[', '')\n",
    "    string = string.replace(']', '')\n",
    "    # split string using commas as separators\n",
    "    string_list = string.split(',') \n",
    "    return string_list\n",
    "\n",
    "feat_info['missing_or_unknown_parsed'] = feat_info['missing_or_unknown'].map(parse_missing)"
   ]
  },
  {
   "cell_type": "code",
   "execution_count": 9,
   "metadata": {},
   "outputs": [],
   "source": [
    "## Convert missing values to NaNs\n",
    "\n",
    "# funtion for replacing missing_or_uknown_parsed to np.nan\n",
    "def convert_to_nan(value):\n",
    "    # Convert floats to integers (need a try/except block because some values are already nans)\n",
    "    try:\n",
    "        if isinstance(value, float):\n",
    "            value = int(value)\n",
    "    except:\n",
    "        pass\n",
    "    if str(value) in missing_or_unknown:\n",
    "        return np.nan\n",
    "    return value\n",
    "\n",
    "for i in range(len(feat_info)):\n",
    "    att = feat_info.iloc[i]['attribute']\n",
    "    missing_or_unknown = feat_info.iloc[i]['missing_or_unknown_parsed']\n",
    "    azdias[att] = azdias[att].map(convert_to_nan)\n"
   ]
  },
  {
   "cell_type": "markdown",
   "metadata": {},
   "source": [
    "#### Step 1.1.2: Assess Missing Data in Each Column\n",
    "\n",
    "How much missing data is present in each column? There are a few columns that are outliers in terms of the proportion of values that are missing. You will want to use matplotlib's [`hist()`](https://matplotlib.org/api/_as_gen/matplotlib.pyplot.hist.html) function to visualize the distribution of missing value counts to find these columns. Identify and document these columns. While some of these columns might have justifications for keeping or re-encoding the data, for this project you should just remove them from the dataframe. (Feel free to make remarks about these outlier columns in the discussion, however!)\n",
    "\n",
    "For the remaining features, are there any patterns in which columns have, or share, missing data?"
   ]
  },
  {
   "cell_type": "code",
   "execution_count": 10,
   "metadata": {},
   "outputs": [
    {
     "name": "stdout",
     "output_type": "stream",
     "text": [
      "After converting missing values to NaN, there are a total of 8373929 missing values.\n"
     ]
    }
   ],
   "source": [
    "# Perform an assessment of how much missing data there is in each column of the\n",
    "# dataset.\n",
    "\n",
    "total_missing = azdias.isnull().sum()\n",
    "\n",
    "print('After converting missing values to NaN, there are a total of {} missing values.'.format(total_missing.sum()))\n"
   ]
  },
  {
   "cell_type": "code",
   "execution_count": 11,
   "metadata": {},
   "outputs": [
    {
     "data": {
      "image/png": "[encoded data removed]",
      "text/plain": [
       "<matplotlib.figure.Figure at 0x7fad3ad3aac8>"
      ]
     },
     "metadata": {
      "needs_background": "light"
     },
     "output_type": "display_data"
    }
   ],
   "source": [
    "# Investigate patterns in the amount of missing data in each column.\n",
    "plt.hist(total_missing, bins=30)\n",
    "plt.xlabel('Missing Values')\n",
    "plt.ylabel('Number of Features')\n",
    "plt.show()"
   ]
  },
  {
   "cell_type": "code",
   "execution_count": 12,
   "metadata": {},
   "outputs": [
    {
     "data": {
      "text/plain": [
       "['AGER_TYP',\n",
       " 'GEBURTSJAHR',\n",
       " 'TITEL_KZ',\n",
       " 'ALTER_HH',\n",
       " 'KK_KUNDENTYP',\n",
       " 'KBA05_BAUMAX']"
      ]
     },
     "execution_count": 12,
     "metadata": {},
     "output_type": "execute_result"
    }
   ],
   "source": [
    "## Identify outliers visually from the preceding histogram.\n",
    "#  Pick the attributes with > 200,000 missing values\n",
    "\n",
    "outlier_threshold = 200000\n",
    "\n",
    "# Outliers have missing values > outlier threshold\n",
    "outlier_columns = list(total_missing[total_missing > outlier_threshold].index)\n",
    "outlier_columns"
   ]
  },
  {
   "cell_type": "code",
   "execution_count": 13,
   "metadata": {},
   "outputs": [
    {
     "data": {
      "text/plain": [
       "32"
      ]
     },
     "execution_count": 13,
     "metadata": {},
     "output_type": "execute_result"
    }
   ],
   "source": [
    "# Number of features with less than 20,000 missing values\n",
    "len(total_missing[total_missing < 20000])"
   ]
  },
  {
   "cell_type": "code",
   "execution_count": 14,
   "metadata": {},
   "outputs": [
    {
     "data": {
      "text/plain": [
       "(891221, 79)"
      ]
     },
     "execution_count": 14,
     "metadata": {},
     "output_type": "execute_result"
    }
   ],
   "source": [
    "# Remove the outlier columns from the dataset. (You'll perform other data\n",
    "# engineering tasks such as re-encoding and imputation later.)\n",
    "\n",
    "azdias = azdias.drop(outlier_columns, axis=1)\n",
    "azdias.shape"
   ]
  },
  {
   "cell_type": "code",
   "execution_count": 15,
   "metadata": {},
   "outputs": [
    {
     "data": {
      "text/plain": [
       "ALTERSKATEGORIE_GROB       2881\n",
       "ANREDE_KZ                     0\n",
       "CJT_GESAMTTYP              4854\n",
       "FINANZ_MINIMALIST             0\n",
       "FINANZ_SPARER                 0\n",
       "FINANZ_VORSORGER              0\n",
       "FINANZ_ANLEGER                0\n",
       "FINANZ_UNAUFFAELLIGER         0\n",
       "FINANZ_HAUSBAUER              0\n",
       "FINANZTYP                     0\n",
       "GFK_URLAUBERTYP            4854\n",
       "GREEN_AVANTGARDE              0\n",
       "HEALTH_TYP               111196\n",
       "LP_LEBENSPHASE_FEIN       97632\n",
       "LP_LEBENSPHASE_GROB       94572\n",
       "LP_FAMILIE_FEIN           77792\n",
       "LP_FAMILIE_GROB           77792\n",
       "LP_STATUS_FEIN             4854\n",
       "LP_STATUS_GROB             4854\n",
       "NATIONALITAET_KZ         108315\n",
       "PRAEGENDE_JUGENDJAHRE    108164\n",
       "RETOURTYP_BK_S             4854\n",
       "SEMIO_SOZ                     0\n",
       "SEMIO_FAM                     0\n",
       "SEMIO_REL                     0\n",
       "SEMIO_MAT                     0\n",
       "SEMIO_VERT                    0\n",
       "SEMIO_LUST                    0\n",
       "SEMIO_ERL                     0\n",
       "SEMIO_KULT                    0\n",
       "                          ...  \n",
       "MIN_GEBAEUDEJAHR          93148\n",
       "OST_WEST_KZ               93148\n",
       "WOHNLAGE                  93148\n",
       "CAMEO_DEUG_2015           99352\n",
       "CAMEO_DEU_2015            99352\n",
       "CAMEO_INTL_2015           99352\n",
       "KBA05_ANTG1              133324\n",
       "KBA05_ANTG2              133324\n",
       "KBA05_ANTG3              133324\n",
       "KBA05_ANTG4              133324\n",
       "KBA05_GBZ                133324\n",
       "BALLRAUM                  93740\n",
       "EWDICHTE                  93740\n",
       "INNENSTADT                93740\n",
       "GEBAEUDETYP_RASTER        93155\n",
       "KKK                      158064\n",
       "MOBI_REGIO               133324\n",
       "ONLINE_AFFINITAET          4854\n",
       "REGIOTYP                 158064\n",
       "KBA13_ANZAHL_PKW         105800\n",
       "PLZ8_ANTG1               116515\n",
       "PLZ8_ANTG2               116515\n",
       "PLZ8_ANTG3               116515\n",
       "PLZ8_ANTG4               116515\n",
       "PLZ8_BAUMAX              116515\n",
       "PLZ8_HHZ                 116515\n",
       "PLZ8_GBZ                 116515\n",
       "ARBEIT                    97375\n",
       "ORTSGR_KLS9               97274\n",
       "RELAT_AB                  97375\n",
       "Length: 79, dtype: int64"
      ]
     },
     "execution_count": 15,
     "metadata": {},
     "output_type": "execute_result"
    }
   ],
   "source": [
    "azdias.isnull().sum()"
   ]
  },
  {
   "cell_type": "markdown",
   "metadata": {},
   "source": [
    "#### Discussion 1.1.2: Assess Missing Data in Each Column\n",
    "\n",
    "There are two types of missing data in the data set: 'natural missing values' and 'known' missing values. The natural missing values show up as NaN values in the original dataset, whereas the known missing values are encoded in the `feat_info` data.\n",
    "\n",
    "After replacing known missing values with NaNs, six features stand out as having outlier amounts of missing values:\n",
    "- AGER_TYP\n",
    "- GEBURTSJAHR\n",
    "- TITEL_KZ\n",
    "- ALTER_HH\n",
    "- KK_KUNDENTYP\n",
    "- KBA05_BAUMAX\n",
    "\n",
    "After removing these outliers from the dataset, this leaves:\n",
    "- Approximately 32 features with a small handful of missing values\n",
    "- A cluster of features with around 100,000 missing values.\n",
    "\n",
    "Considering the cluster of features with around 100,000 missing values, it is noticeable that several feautures have exactly the same number of missing values.\n",
    "\n",
    "For example, `KBAO5_ANTG1`, `KBAO5_ANTG2`, `KBAO5_ANTG3`, `KBAO5_ANTG4`, and `KBAO5_GBI` all have 133,324 missing values.  Consulting the Data Dictionary markdown file, these features are all `RR3 micro-cell features`.  It seems likely that data for feature groupings like this was collected at the same time, hence explaining identical missing value numbers."
   ]
  },
  {
   "cell_type": "markdown",
   "metadata": {},
   "source": [
    "#### Step 1.1.3: Assess Missing Data in Each Row\n",
    "\n",
    "Now, you'll perform a similar assessment for the rows of the dataset. How much data is missing in each row? As with the columns, you should see some groups of points that have a very different numbers of missing values. Divide the data into two subsets: one for data points that are above some threshold for missing values, and a second subset for points below that threshold.\n",
    "\n",
    "In order to know what to do with the outlier rows, we should see if the distribution of data values on columns that are not missing data (or are missing very little data) are similar or different between the two groups. Select at least five of these columns and compare the distribution of values.\n",
    "- You can use seaborn's [`countplot()`](https://seaborn.pydata.org/generated/seaborn.countplot.html) function to create a bar chart of code frequencies and matplotlib's [`subplot()`](https://matplotlib.org/api/_as_gen/matplotlib.pyplot.subplot.html) function to put bar charts for the two subplots side by side.\n",
    "- To reduce repeated code, you might want to write a function that can perform this comparison, taking as one of its arguments a column to be compared.\n",
    "\n",
    "Depending on what you observe in your comparison, this will have implications on how you approach your conclusions later in the analysis. If the distributions of non-missing features look similar between the data with many missing values and the data with few or no missing values, then we could argue that simply dropping those points from the analysis won't present a major issue. On the other hand, if the data with many missing values looks very different from the data with few or no missing values, then we should make a note on those data as special. We'll revisit these data later on. **Either way, you should continue your analysis for now using just the subset of the data with few or no missing values.**"
   ]
  },
  {
   "cell_type": "code",
   "execution_count": 16,
   "metadata": {},
   "outputs": [
    {
     "name": "stdout",
     "output_type": "stream",
     "text": [
      "5.64989379739\n",
      "13.2346865382\n",
      "32.1192668738\n"
     ]
    }
   ],
   "source": [
    "# How much data is missing in each row of the dataset?\n",
    "\n",
    "rows_missing = azdias.isnull().sum(axis=1)\n",
    "\n",
    "rows_missing_mean = rows_missing.mean()\n",
    "print(rows_missing_mean)\n",
    "\n",
    "rows_missing_sd = rows_missing.std()\n",
    "print(rows_missing_sd)\n",
    "\n",
    "rows_missing_outliers = rows_missing_mean + 2.0 * rows_missing_sd\n",
    "print(rows_missing_outliers)"
   ]
  },
  {
   "cell_type": "code",
   "execution_count": 17,
   "metadata": {},
   "outputs": [
    {
     "data": {
      "image/png": "[encoded data removed]",
      "text/plain": [
       "<matplotlib.figure.Figure at 0x7fad3acdf5c0>"
      ]
     },
     "metadata": {
      "needs_background": "light"
     },
     "output_type": "display_data"
    }
   ],
   "source": [
    "plt.hist(rows_missing, bins=30)\n",
    "plt.xlabel('Missing Values in Rows')\n",
    "plt.ylabel('Number of Rows')\n",
    "plt.show();"
   ]
  },
  {
   "cell_type": "code",
   "execution_count": 18,
   "metadata": {},
   "outputs": [
    {
     "name": "stdout",
     "output_type": "stream",
     "text": [
      "(798276, 79)\n",
      "\n",
      "\n",
      "(92945, 79)\n"
     ]
    }
   ],
   "source": [
    "# Write code to divide the data into two subsets based on the number of missing\n",
    "# values in each row.\n",
    "\n",
    "rows_missing_less_than_threshold = azdias[azdias.isnull().sum(axis=1) <= rows_missing_outliers]\n",
    "rows_missing_more_than_threshold = azdias[azdias.isnull().sum(axis=1) > rows_missing_outliers]\n",
    "\n",
    "print(rows_missing_less_than_threshold.shape)\n",
    "print('\\n')\n",
    "print(rows_missing_more_than_threshold.shape)"
   ]
  },
  {
   "cell_type": "code",
   "execution_count": 19,
   "metadata": {},
   "outputs": [],
   "source": [
    "# Compare the distribution of values for at least five columns where there are\n",
    "# no or few missing values, between the two subsets."
   ]
  },
  {
   "cell_type": "code",
   "execution_count": 20,
   "metadata": {},
   "outputs": [
    {
     "data": {
      "text/plain": [
       "ALTERSKATEGORIE_GROB     2881\n",
       "ANREDE_KZ                   0\n",
       "CJT_GESAMTTYP            4854\n",
       "FINANZ_MINIMALIST           0\n",
       "FINANZ_SPARER               0\n",
       "FINANZ_VORSORGER            0\n",
       "FINANZ_ANLEGER              0\n",
       "FINANZ_UNAUFFAELLIGER       0\n",
       "FINANZ_HAUSBAUER            0\n",
       "FINANZTYP                   0\n",
       "GFK_URLAUBERTYP          4854\n",
       "GREEN_AVANTGARDE            0\n",
       "LP_STATUS_FEIN           4854\n",
       "LP_STATUS_GROB           4854\n",
       "RETOURTYP_BK_S           4854\n",
       "SEMIO_SOZ                   0\n",
       "SEMIO_FAM                   0\n",
       "SEMIO_REL                   0\n",
       "SEMIO_MAT                   0\n",
       "SEMIO_VERT                  0\n",
       "SEMIO_LUST                  0\n",
       "SEMIO_ERL                   0\n",
       "SEMIO_KULT                  0\n",
       "SEMIO_RAT                   0\n",
       "SEMIO_KRIT                  0\n",
       "SEMIO_DOM                   0\n",
       "SEMIO_KAEM                  0\n",
       "SEMIO_PFLICHT               0\n",
       "SEMIO_TRADV                 0\n",
       "ZABEOTYP                    0\n",
       "ONLINE_AFFINITAET        4854\n",
       "dtype: int64"
      ]
     },
     "execution_count": 20,
     "metadata": {},
     "output_type": "execute_result"
    }
   ],
   "source": [
    "# Consider columns with less than 5000 rows of missing data\n",
    "\n",
    "zero_missing = total_missing[total_missing < 5000]\n",
    "zero_missing"
   ]
  },
  {
   "cell_type": "markdown",
   "metadata": {},
   "source": [
    "#### Features to examine\n",
    "\n",
    "These are some features that satisfiy all of the following conditions:\n",
    "\n",
    "- Some of the rows have < 32 missing values\n",
    "- Some of the rows have > 32 missing values\n",
    "- The total amount of missing rows < 5000\n",
    "\n",
    "For example:\n",
    "\n",
    "`ALTERSKATEGORIE_GROB`, `ANREDE_KZ`, `CJT_GESAMTTYP`, `FINANZTYP`, `LP_STATUS_GROB`\n"
   ]
  },
  {
   "cell_type": "code",
   "execution_count": 21,
   "metadata": {},
   "outputs": [
    {
     "data": {
      "image/png": "[encoded data removed]",
      "text/plain": [
       "<matplotlib.figure.Figure at 0x7fad3abe5c88>"
      ]
     },
     "metadata": {
      "needs_background": "light"
     },
     "output_type": "display_data"
    }
   ],
   "source": [
    "# This plot considers the five features in the preceding cell.\n",
    "# The distribution for rows with > 32 missing values are plotted alongside the distribution for <= 32 missing rows\n",
    "\n",
    "fig, ax = plt.subplots(5, 2, figsize=(12,18))\n",
    "\n",
    "sns.countplot(ax=ax[0][0], color='c', x=rows_missing_less_than_threshold['ALTERSKATEGORIE_GROB']).set_title('<= 32 missing values')\n",
    "sns.countplot(ax=ax[0][1], color='c', x=rows_missing_more_than_threshold['ALTERSKATEGORIE_GROB']).set_title('> 32 missing values')\n",
    "\n",
    "sns.countplot(ax=ax[1][0], color='b', x=rows_missing_less_than_threshold['ANREDE_KZ']).set_title('<= 32 missing values')\n",
    "sns.countplot(ax=ax[1][1], color='b', x=rows_missing_more_than_threshold['ANREDE_KZ']).set_title('> 32 missing values')\n",
    "\n",
    "sns.countplot(ax=ax[2][0], color='r', x=rows_missing_less_than_threshold['CJT_GESAMTTYP']).set_title('<= 32 missing values')\n",
    "sns.countplot(ax=ax[2][1], color='r', x=rows_missing_more_than_threshold['CJT_GESAMTTYP']).set_title('> 32 missing values')\n",
    "\n",
    "sns.countplot(ax=ax[3][0], color='g', x=rows_missing_less_than_threshold['FINANZTYP']).set_title('<= 32 missing values')\n",
    "sns.countplot(ax=ax[3][1], color='g', x=rows_missing_more_than_threshold['FINANZTYP']).set_title('> 32 missing values')\n",
    "\n",
    "sns.countplot(ax=ax[4][0], color='y', x=rows_missing_less_than_threshold['LP_STATUS_GROB']).set_title('<= 32 missing values')\n",
    "sns.countplot(ax=ax[4][1], color='y', x=rows_missing_more_than_threshold['LP_STATUS_GROB']).set_title('> 32 missing values')\n",
    "\n",
    "fig.tight_layout()\n",
    "\n",
    "plt.show()"
   ]
  },
  {
   "cell_type": "markdown",
   "metadata": {},
   "source": [
    "#### Discussion 1.1.3: Assess Missing Data in Each Row\n",
    "\n",
    "It does not look like there is sufficient evidence to reject the null hypothesis that the distributions in the two groups are qualitatively similar.  \n",
    "\n",
    "Of the five atributes considered above, three of the attributes share broadly similar attributes (`ALTERSKATEGORIE_GROB`, `ANREDE_KZ` and `LP_STATUS_GROB`).  \n",
    "\n",
    "The distributions for `CJT_GESAMTTYP` and `FINANZTYP` have a bit more concentration in their modal values, but otherwise are similar. "
   ]
  },
  {
   "cell_type": "markdown",
   "metadata": {},
   "source": [
    "### Step 1.2: Select and Re-Encode Features\n",
    "\n",
    "Checking for missing data isn't the only way in which you can prepare a dataset for analysis. Since the unsupervised learning techniques to be used will only work on data that is encoded numerically, you need to make a few encoding changes or additional assumptions to be able to make progress. In addition, while almost all of the values in the dataset are encoded using numbers, not all of them represent numeric values. Check the third column of the feature summary (`feat_info`) for a summary of types of measurement.\n",
    "- For numeric and interval data, these features can be kept without changes.\n",
    "- Most of the variables in the dataset are ordinal in nature. While ordinal values may technically be non-linear in spacing, make the simplifying assumption that the ordinal variables can be treated as being interval in nature (that is, kept without any changes).\n",
    "- Special handling may be necessary for the remaining two variable types: categorical, and 'mixed'.\n",
    "\n",
    "In the first two parts of this sub-step, you will perform an investigation of the categorical and mixed-type features and make a decision on each of them, whether you will keep, drop, or re-encode each. Then, in the last part, you will create a new data frame with only the selected and engineered columns.\n",
    "\n",
    "Data wrangling is often the trickiest part of the data analysis process, and there's a lot of it to be done here. But stick with it: once you're done with this step, you'll be ready to get to the machine learning parts of the project!"
   ]
  },
  {
   "cell_type": "code",
   "execution_count": 22,
   "metadata": {},
   "outputs": [
    {
     "name": "stdout",
     "output_type": "stream",
     "text": [
      "ordinal        49\n",
      "categorical    21\n",
      "mixed           7\n",
      "numeric         7\n",
      "interval        1\n",
      "Name: type, dtype: int64\n"
     ]
    }
   ],
   "source": [
    "# How many features are there of each data type?\n",
    "\n",
    "print(feat_info.type.value_counts())"
   ]
  },
  {
   "cell_type": "markdown",
   "metadata": {},
   "source": [
    "#### Step 1.2.1: Re-Encode Categorical Features\n",
    "\n",
    "For categorical data, you would ordinarily need to encode the levels as dummy variables. Depending on the number of categories, perform one of the following:\n",
    "- For binary (two-level) categoricals that take numeric values, you can keep them without needing to do anything.\n",
    "- There is one binary variable that takes on non-numeric values. For this one, you need to re-encode the values as numbers or create a dummy variable.\n",
    "- For multi-level categoricals (three or more values), you can choose to encode the values using multiple dummy variables (e.g. via [OneHotEncoder](http://scikit-learn.org/stable/modules/generated/sklearn.preprocessing.OneHotEncoder.html)), or (to keep things straightforward) just drop them from the analysis. As always, document your choices in the Discussion section."
   ]
  },
  {
   "cell_type": "code",
   "execution_count": 23,
   "metadata": {},
   "outputs": [
    {
     "data": {
      "text/html": [
       "<div>\n",
       "<style scoped>\n",
       "    .dataframe tbody tr th:only-of-type {\n",
       "        vertical-align: middle;\n",
       "    }\n",
       "\n",
       "    .dataframe tbody tr th {\n",
       "        vertical-align: top;\n",
       "    }\n",
       "\n",
       "    .dataframe thead th {\n",
       "        text-align: right;\n",
       "    }\n",
       "</style>\n",
       "<table border=\"1\" class=\"dataframe\">\n",
       "  <thead>\n",
       "    <tr style=\"text-align: right;\">\n",
       "      <th></th>\n",
       "      <th>attribute</th>\n",
       "      <th>information_level</th>\n",
       "      <th>type</th>\n",
       "      <th>missing_or_unknown</th>\n",
       "      <th>missing_or_unknown_parsed</th>\n",
       "    </tr>\n",
       "  </thead>\n",
       "  <tbody>\n",
       "    <tr>\n",
       "      <th>0</th>\n",
       "      <td>AGER_TYP</td>\n",
       "      <td>person</td>\n",
       "      <td>categorical</td>\n",
       "      <td>[-1,0]</td>\n",
       "      <td>[-1, 0]</td>\n",
       "    </tr>\n",
       "    <tr>\n",
       "      <th>2</th>\n",
       "      <td>ANREDE_KZ</td>\n",
       "      <td>person</td>\n",
       "      <td>categorical</td>\n",
       "      <td>[-1,0]</td>\n",
       "      <td>[-1, 0]</td>\n",
       "    </tr>\n",
       "    <tr>\n",
       "      <th>3</th>\n",
       "      <td>CJT_GESAMTTYP</td>\n",
       "      <td>person</td>\n",
       "      <td>categorical</td>\n",
       "      <td>[0]</td>\n",
       "      <td>[0]</td>\n",
       "    </tr>\n",
       "    <tr>\n",
       "      <th>10</th>\n",
       "      <td>FINANZTYP</td>\n",
       "      <td>person</td>\n",
       "      <td>categorical</td>\n",
       "      <td>[-1]</td>\n",
       "      <td>[-1]</td>\n",
       "    </tr>\n",
       "    <tr>\n",
       "      <th>12</th>\n",
       "      <td>GFK_URLAUBERTYP</td>\n",
       "      <td>person</td>\n",
       "      <td>categorical</td>\n",
       "      <td>[]</td>\n",
       "      <td>[]</td>\n",
       "    </tr>\n",
       "    <tr>\n",
       "      <th>13</th>\n",
       "      <td>GREEN_AVANTGARDE</td>\n",
       "      <td>person</td>\n",
       "      <td>categorical</td>\n",
       "      <td>[]</td>\n",
       "      <td>[]</td>\n",
       "    </tr>\n",
       "    <tr>\n",
       "      <th>17</th>\n",
       "      <td>LP_FAMILIE_FEIN</td>\n",
       "      <td>person</td>\n",
       "      <td>categorical</td>\n",
       "      <td>[0]</td>\n",
       "      <td>[0]</td>\n",
       "    </tr>\n",
       "    <tr>\n",
       "      <th>18</th>\n",
       "      <td>LP_FAMILIE_GROB</td>\n",
       "      <td>person</td>\n",
       "      <td>categorical</td>\n",
       "      <td>[0]</td>\n",
       "      <td>[0]</td>\n",
       "    </tr>\n",
       "    <tr>\n",
       "      <th>19</th>\n",
       "      <td>LP_STATUS_FEIN</td>\n",
       "      <td>person</td>\n",
       "      <td>categorical</td>\n",
       "      <td>[0]</td>\n",
       "      <td>[0]</td>\n",
       "    </tr>\n",
       "    <tr>\n",
       "      <th>20</th>\n",
       "      <td>LP_STATUS_GROB</td>\n",
       "      <td>person</td>\n",
       "      <td>categorical</td>\n",
       "      <td>[0]</td>\n",
       "      <td>[0]</td>\n",
       "    </tr>\n",
       "    <tr>\n",
       "      <th>21</th>\n",
       "      <td>NATIONALITAET_KZ</td>\n",
       "      <td>person</td>\n",
       "      <td>categorical</td>\n",
       "      <td>[-1,0]</td>\n",
       "      <td>[-1, 0]</td>\n",
       "    </tr>\n",
       "    <tr>\n",
       "      <th>38</th>\n",
       "      <td>SHOPPER_TYP</td>\n",
       "      <td>person</td>\n",
       "      <td>categorical</td>\n",
       "      <td>[-1]</td>\n",
       "      <td>[-1]</td>\n",
       "    </tr>\n",
       "    <tr>\n",
       "      <th>39</th>\n",
       "      <td>SOHO_KZ</td>\n",
       "      <td>person</td>\n",
       "      <td>categorical</td>\n",
       "      <td>[-1]</td>\n",
       "      <td>[-1]</td>\n",
       "    </tr>\n",
       "    <tr>\n",
       "      <th>40</th>\n",
       "      <td>TITEL_KZ</td>\n",
       "      <td>person</td>\n",
       "      <td>categorical</td>\n",
       "      <td>[-1,0]</td>\n",
       "      <td>[-1, 0]</td>\n",
       "    </tr>\n",
       "    <tr>\n",
       "      <th>41</th>\n",
       "      <td>VERS_TYP</td>\n",
       "      <td>person</td>\n",
       "      <td>categorical</td>\n",
       "      <td>[-1]</td>\n",
       "      <td>[-1]</td>\n",
       "    </tr>\n",
       "    <tr>\n",
       "      <th>42</th>\n",
       "      <td>ZABEOTYP</td>\n",
       "      <td>person</td>\n",
       "      <td>categorical</td>\n",
       "      <td>[-1,9]</td>\n",
       "      <td>[-1, 9]</td>\n",
       "    </tr>\n",
       "    <tr>\n",
       "      <th>47</th>\n",
       "      <td>KK_KUNDENTYP</td>\n",
       "      <td>household</td>\n",
       "      <td>categorical</td>\n",
       "      <td>[-1]</td>\n",
       "      <td>[-1]</td>\n",
       "    </tr>\n",
       "    <tr>\n",
       "      <th>52</th>\n",
       "      <td>GEBAEUDETYP</td>\n",
       "      <td>building</td>\n",
       "      <td>categorical</td>\n",
       "      <td>[-1,0]</td>\n",
       "      <td>[-1, 0]</td>\n",
       "    </tr>\n",
       "    <tr>\n",
       "      <th>55</th>\n",
       "      <td>OST_WEST_KZ</td>\n",
       "      <td>building</td>\n",
       "      <td>categorical</td>\n",
       "      <td>[-1]</td>\n",
       "      <td>[-1]</td>\n",
       "    </tr>\n",
       "    <tr>\n",
       "      <th>57</th>\n",
       "      <td>CAMEO_DEUG_2015</td>\n",
       "      <td>microcell_rr4</td>\n",
       "      <td>categorical</td>\n",
       "      <td>[-1,X]</td>\n",
       "      <td>[-1, X]</td>\n",
       "    </tr>\n",
       "    <tr>\n",
       "      <th>58</th>\n",
       "      <td>CAMEO_DEU_2015</td>\n",
       "      <td>microcell_rr4</td>\n",
       "      <td>categorical</td>\n",
       "      <td>[XX]</td>\n",
       "      <td>[XX]</td>\n",
       "    </tr>\n",
       "  </tbody>\n",
       "</table>\n",
       "</div>"
      ],
      "text/plain": [
       "           attribute information_level         type missing_or_unknown  \\\n",
       "0           AGER_TYP            person  categorical             [-1,0]   \n",
       "2          ANREDE_KZ            person  categorical             [-1,0]   \n",
       "3      CJT_GESAMTTYP            person  categorical                [0]   \n",
       "10         FINANZTYP            person  categorical               [-1]   \n",
       "12   GFK_URLAUBERTYP            person  categorical                 []   \n",
       "13  GREEN_AVANTGARDE            person  categorical                 []   \n",
       "17   LP_FAMILIE_FEIN            person  categorical                [0]   \n",
       "18   LP_FAMILIE_GROB            person  categorical                [0]   \n",
       "19    LP_STATUS_FEIN            person  categorical                [0]   \n",
       "20    LP_STATUS_GROB            person  categorical                [0]   \n",
       "21  NATIONALITAET_KZ            person  categorical             [-1,0]   \n",
       "38       SHOPPER_TYP            person  categorical               [-1]   \n",
       "39           SOHO_KZ            person  categorical               [-1]   \n",
       "40          TITEL_KZ            person  categorical             [-1,0]   \n",
       "41          VERS_TYP            person  categorical               [-1]   \n",
       "42          ZABEOTYP            person  categorical             [-1,9]   \n",
       "47      KK_KUNDENTYP         household  categorical               [-1]   \n",
       "52       GEBAEUDETYP          building  categorical             [-1,0]   \n",
       "55       OST_WEST_KZ          building  categorical               [-1]   \n",
       "57   CAMEO_DEUG_2015     microcell_rr4  categorical             [-1,X]   \n",
       "58    CAMEO_DEU_2015     microcell_rr4  categorical               [XX]   \n",
       "\n",
       "   missing_or_unknown_parsed  \n",
       "0                    [-1, 0]  \n",
       "2                    [-1, 0]  \n",
       "3                        [0]  \n",
       "10                      [-1]  \n",
       "12                        []  \n",
       "13                        []  \n",
       "17                       [0]  \n",
       "18                       [0]  \n",
       "19                       [0]  \n",
       "20                       [0]  \n",
       "21                   [-1, 0]  \n",
       "38                      [-1]  \n",
       "39                      [-1]  \n",
       "40                   [-1, 0]  \n",
       "41                      [-1]  \n",
       "42                   [-1, 9]  \n",
       "47                      [-1]  \n",
       "52                   [-1, 0]  \n",
       "55                      [-1]  \n",
       "57                   [-1, X]  \n",
       "58                      [XX]  "
      ]
     },
     "execution_count": 23,
     "metadata": {},
     "output_type": "execute_result"
    }
   ],
   "source": [
    "# Assess categorical variables: which are binary, which are multi-level, and\n",
    "# which one needs to be re-encoded?\n",
    "\n",
    "categorical = feat_info[feat_info.type == 'categorical']\n",
    "categorical"
   ]
  },
  {
   "cell_type": "code",
   "execution_count": 24,
   "metadata": {},
   "outputs": [
    {
     "name": "stdout",
     "output_type": "stream",
     "text": [
      "Binary: ['ANREDE_KZ', 'GREEN_AVANTGARDE', 'SOHO_KZ', 'VERS_TYP', 'OST_WEST_KZ']\n",
      "\n",
      "\n",
      "Multilevel: ['CJT_GESAMTTYP', 'FINANZTYP', 'GFK_URLAUBERTYP', 'LP_FAMILIE_FEIN', 'LP_FAMILIE_GROB', 'LP_STATUS_FEIN', 'LP_STATUS_GROB', 'NATIONALITAET_KZ', 'SHOPPER_TYP', 'ZABEOTYP', 'GEBAEUDETYP', 'CAMEO_DEUG_2015', 'CAMEO_DEU_2015']\n"
     ]
    }
   ],
   "source": [
    "# Collect the binary and multi-level attributes in separate lists\n",
    "binary = []\n",
    "multilevel = []\n",
    "\n",
    "for i in range(len(categorical)):\n",
    "    att = categorical.iloc[i]['attribute']\n",
    "    if att not in outlier_columns:\n",
    "        size = azdias[att].value_counts().size\n",
    "        if size == 2:\n",
    "            binary.append(att)\n",
    "        else:\n",
    "            multilevel.append(att)\n",
    "            \n",
    "print('Binary:', binary)\n",
    "print('\\n')\n",
    "print('Multilevel:', multilevel)"
   ]
  },
  {
   "cell_type": "code",
   "execution_count": 25,
   "metadata": {},
   "outputs": [
    {
     "name": "stdout",
     "output_type": "stream",
     "text": [
      "ANREDE_KZ\n",
      "[2, 1]\n",
      "<class 'int'> <class 'int'>\n",
      "\n",
      "\n",
      "GREEN_AVANTGARDE\n",
      "[0, 1]\n",
      "<class 'int'> <class 'int'>\n",
      "\n",
      "\n",
      "SOHO_KZ\n",
      "[0.0, 1.0]\n",
      "<class 'float'> <class 'float'>\n",
      "\n",
      "\n",
      "VERS_TYP\n",
      "[2.0, 1.0]\n",
      "<class 'float'> <class 'float'>\n",
      "\n",
      "\n",
      "OST_WEST_KZ\n",
      "['W', 'O']\n",
      "<class 'str'> <class 'str'>\n",
      "\n",
      "\n"
     ]
    }
   ],
   "source": [
    "# Inspect binary attributes\n",
    "for att in binary:\n",
    "    categories = azdias[att].value_counts().index.tolist()\n",
    "    print(att)\n",
    "    print(categories)\n",
    "    print(type(categories[0]), type(categories[1]))\n",
    "    print('\\n')"
   ]
  },
  {
   "cell_type": "code",
   "execution_count": 26,
   "metadata": {},
   "outputs": [
    {
     "name": "stdout",
     "output_type": "stream",
     "text": [
      "1.0    629528\n",
      "2.0    168545\n",
      "Name: OST_WEST_KZ, dtype: int64\n"
     ]
    }
   ],
   "source": [
    "# Re-encode `OST_WEST_KZ`\n",
    "\n",
    "azdias['OST_WEST_KZ'].replace('W', 1, inplace=True)\n",
    "azdias['OST_WEST_KZ'].replace('O', 2, inplace=True)\n",
    "\n",
    "print(azdias['OST_WEST_KZ'].value_counts())"
   ]
  },
  {
   "cell_type": "code",
   "execution_count": 27,
   "metadata": {},
   "outputs": [
    {
     "data": {
      "text/plain": [
       "(891221, 66)"
      ]
     },
     "execution_count": 27,
     "metadata": {},
     "output_type": "execute_result"
    }
   ],
   "source": [
    "# Drop the multilevel categorical variables from the dataframe\n",
    "azdias = azdias.drop(multilevel, axis=1)\n",
    "azdias.shape"
   ]
  },
  {
   "cell_type": "markdown",
   "metadata": {},
   "source": [
    "#### Discussion 1.2.1: Re-Encode Categorical Features\n",
    "\n",
    "I have kept the binary categorical features and dropped the multilevel categorical features. This is with a view to keeping the dimensionality of the feature set at a reasonable size.  14 multilevel categorical features have been dropped.  Performing one-hot encoding on those features would have significantly added to the size of the feature space.  As unsupervised learning methods can suffer from the *curse of dimensionality*, this seems a sensible strategy in the first instance.\n",
    "\n",
    "Of the 5 binary features, four are already encoded as floats or ints, so do not need to be rengineered.\n",
    "\n",
    "The `OST_WEST_KZ` variable has been re-encoded from strings ('W' and 'O') to integers 1 and 2.\n",
    "\n"
   ]
  },
  {
   "cell_type": "markdown",
   "metadata": {},
   "source": [
    "#### Step 1.2.2: Engineer Mixed-Type Features\n",
    "\n",
    "There are a handful of features that are marked as \"mixed\" in the feature summary that require special treatment in order to be included in the analysis. There are two in particular that deserve attention; the handling of the rest are up to your own choices:\n",
    "- \"PRAEGENDE_JUGENDJAHRE\" combines information on three dimensions: generation by decade, movement (mainstream vs. avantgarde), and nation (east vs. west). While there aren't enough levels to disentangle east from west, you should create two new variables to capture the other two dimensions: an interval-type variable for decade, and a binary variable for movement.\n",
    "- \"CAMEO_INTL_2015\" combines information on two axes: wealth and life stage. Break up the two-digit codes by their 'tens'-place and 'ones'-place digits into two new ordinal variables (which, for the purposes of this project, is equivalent to just treating them as their raw numeric values).\n",
    "- If you decide to keep or engineer new features around the other mixed-type features, make sure you note your steps in the Discussion section.\n",
    "\n",
    "Be sure to check `Data_Dictionary.md` for the details needed to finish these tasks."
   ]
  },
  {
   "cell_type": "code",
   "execution_count": 28,
   "metadata": {},
   "outputs": [
    {
     "data": {
      "text/plain": [
       "['LP_LEBENSPHASE_FEIN',\n",
       " 'LP_LEBENSPHASE_GROB',\n",
       " 'PRAEGENDE_JUGENDJAHRE',\n",
       " 'WOHNLAGE',\n",
       " 'CAMEO_INTL_2015',\n",
       " 'PLZ8_BAUMAX']"
      ]
     },
     "execution_count": 28,
     "metadata": {},
     "output_type": "execute_result"
    }
   ],
   "source": [
    "# Collect mixed attributes\n",
    "type_mixed = feat_info[feat_info.type == 'mixed']\n",
    "\n",
    "mixed = []\n",
    "for i in range(len(type_mixed)):\n",
    "    att = type_mixed.iloc[i]['attribute']\n",
    "    if att not in outlier_columns:\n",
    "        mixed.append(att)\n",
    "mixed"
   ]
  },
  {
   "cell_type": "code",
   "execution_count": 29,
   "metadata": {},
   "outputs": [],
   "source": [
    "# Investigate \"PRAEGENDE_JUGENDJAHRE\" and engineer two new variables.\n",
    "\n",
    "# Reproduced from Data Dictionary \n",
    "\n",
    "### 1.18. PRAEGENDE_JUGENDJAHRE\n",
    "# Dominating movement of person's youth (avantgarde vs. mainstream; east vs. west)\n",
    "# - -1: unknown\n",
    "# -  0: unknown\n",
    "# -  1: 40s - war years (Mainstream, E+W)\n",
    "# -  2: 40s - reconstruction years (Avantgarde, E+W)\n",
    "# -  3: 50s - economic miracle (Mainstream, E+W)\n",
    "# -  4: 50s - milk bar / Individualisation (Avantgarde, E+W)\n",
    "# -  5: 60s - economic miracle (Mainstream, E+W)\n",
    "# -  6: 60s - generation 68 / student protestors (Avantgarde, W)\n",
    "# -  7: 60s - opponents to the building of the Wall (Avantgarde, E)\n",
    "# -  8: 70s - family orientation (Mainstream, E+W)\n",
    "# -  9: 70s - peace movement (Avantgarde, E+W)\n",
    "# - 10: 80s - Generation Golf (Mainstream, W)\n",
    "# - 11: 80s - ecological awareness (Avantgarde, W)\n",
    "# - 12: 80s - FDJ / communist party youth organisation (Mainstream, E)\n",
    "# - 13: 80s - Swords into ploughshares (Avantgarde, E)\n",
    "# - 14: 90s - digital media kids (Mainstream, E+W)\n",
    "# - 15: 90s - ecological awareness (Avantgarde, E+W)\n",
    "\n",
    "# Need to re-encode PRAEGENDE_JUGENDJAHRE as:\n",
    "\n",
    "# New interval variable 'Decade'\n",
    "# [1, 2] -> 1\n",
    "# [3, 4] -> 2\n",
    "# [5, 6, 7] -> 3\n",
    "# [8, 9] -> 4\n",
    "# [10, 11, 12, 13, 14, 15] -> 5\n",
    "\n",
    "# New binary variable 'Movement'\n",
    "# 'Avantgarde' = 1\n",
    "# 'Mainstream' = 2\n",
    "# [2, 4, 6, 7, 9, 11, 13, 15] -> 1\n",
    "# [1, 3, 5, 8, 10, 12, 14] -> 2"
   ]
  },
  {
   "cell_type": "code",
   "execution_count": 30,
   "metadata": {},
   "outputs": [
    {
     "name": "stdout",
     "output_type": "stream",
     "text": [
      "5.0    383014\n",
      "4.0    179558\n",
      "3.0    116078\n",
      "2.0     75646\n",
      "1.0     28761\n",
      "Name: Decade, dtype: int64\n"
     ]
    }
   ],
   "source": [
    "# Re-encode \"PRAEGENDE_JUGENDJAHRE\"\n",
    "\n",
    "azdias['Decade'] = azdias['PRAEGENDE_JUGENDJAHRE']\n",
    "azdias['Decade'].replace(1, 1, inplace=True)\n",
    "azdias['Decade'].replace(2, 1, inplace=True)\n",
    "azdias['Decade'].replace(3, 2, inplace=True)\n",
    "azdias['Decade'].replace(4, 2, inplace=True)\n",
    "azdias['Decade'].replace(5, 3, inplace=True)\n",
    "azdias['Decade'].replace(6, 3, inplace=True)\n",
    "azdias['Decade'].replace(7, 3, inplace=True)\n",
    "azdias['Decade'].replace(8, 4, inplace=True)\n",
    "azdias['Decade'].replace(9, 4, inplace=True)\n",
    "azdias['Decade'].replace(10, 5, inplace=True)\n",
    "azdias['Decade'].replace(11, 5, inplace=True)\n",
    "azdias['Decade'].replace(12, 5, inplace=True)\n",
    "azdias['Decade'].replace(13, 5, inplace=True)\n",
    "azdias['Decade'].replace(14, 5, inplace=True)\n",
    "azdias['Decade'].replace(15, 5, inplace=True)\n",
    "\n",
    "print(azdias['Decade'].value_counts())"
   ]
  },
  {
   "cell_type": "code",
   "execution_count": 31,
   "metadata": {},
   "outputs": [
    {
     "name": "stdout",
     "output_type": "stream",
     "text": [
      "2.0    586550\n",
      "1.0    196507\n",
      "Name: Movement, dtype: int64\n"
     ]
    }
   ],
   "source": [
    "# Re-encode \"PRAEGENDE_JUGENDJAHRE\": Part 2\n",
    "\n",
    "azdias['Movement'] = azdias['PRAEGENDE_JUGENDJAHRE']\n",
    "azdias['Movement'].replace(1, 2, inplace=True)\n",
    "azdias['Movement'].replace(2, 1, inplace=True)\n",
    "azdias['Movement'].replace(3, 2, inplace=True)\n",
    "azdias['Movement'].replace(4, 1, inplace=True)\n",
    "azdias['Movement'].replace(5, 2, inplace=True)\n",
    "azdias['Movement'].replace(6, 1, inplace=True)\n",
    "azdias['Movement'].replace(7, 1, inplace=True)\n",
    "azdias['Movement'].replace(8, 2, inplace=True)\n",
    "azdias['Movement'].replace(9, 1, inplace=True)\n",
    "azdias['Movement'].replace(10, 2, inplace=True)\n",
    "azdias['Movement'].replace(11, 1, inplace=True)\n",
    "azdias['Movement'].replace(12, 2, inplace=True)\n",
    "azdias['Movement'].replace(13, 1, inplace=True)\n",
    "azdias['Movement'].replace(14, 2, inplace=True)\n",
    "azdias['Movement'].replace(15, 1, inplace=True)\n",
    "\n",
    "print(azdias['Movement'].value_counts())"
   ]
  },
  {
   "cell_type": "code",
   "execution_count": 32,
   "metadata": {},
   "outputs": [],
   "source": [
    "# Investigate \"CAMEO_INTL_2015\" and engineer two new variables.\n",
    "\n",
    "# Reproduced from Data Dictionary \n",
    "\n",
    "### 4.3. CAMEO_INTL_2015\n",
    "# German CAMEO: Wealth / Life Stage Typology, mapped to international code\n",
    "# - -1: unknown\n",
    "# - 11: Wealthy Households - Pre-Family Couples & Singles\n",
    "# - 12: Wealthy Households - Young Couples With Children\n",
    "# - 13: Wealthy Households - Families With School Age Children\n",
    "# - 14: Wealthy Households - Older Families &  Mature Couples\n",
    "# - 15: Wealthy Households - Elders In Retirement\n",
    "# - 21: Prosperous Households - Pre-Family Couples & Singles\n",
    "# - 22: Prosperous Households - Young Couples With Children\n",
    "# - 23: Prosperous Households - Families With School Age Children\n",
    "# - 24: Prosperous Households - Older Families & Mature Couples\n",
    "# - 25: Prosperous Households - Elders In Retirement\n",
    "# - 31: Comfortable Households - Pre-Family Couples & Singles\n",
    "# - 32: Comfortable Households - Young Couples With Children\n",
    "# - 33: Comfortable Households - Families With School Age Children\n",
    "# - 34: Comfortable Households - Older Families & Mature Couples\n",
    "# - 35: Comfortable Households - Elders In Retirement\n",
    "# - 41: Less Affluent Households - Pre-Family Couples & Singles\n",
    "# - 42: Less Affluent Households - Young Couples With Children\n",
    "# - 43: Less Affluent Households - Families With School Age Children\n",
    "# - 44: Less Affluent Households - Older Families & Mature Couples\n",
    "# - 45: Less Affluent Households - Elders In Retirement\n",
    "# - 51: Poorer Households - Pre-Family Couples & Singles\n",
    "# - 52: Poorer Households - Young Couples With Children\n",
    "# - 53: Poorer Households - Families With School Age Children\n",
    "# - 54: Poorer Households - Older Families & Mature Couples\n",
    "# - 55: Poorer Households - Elders In Retirement\n",
    "# - XX: unknown\n",
    "\n",
    "# Need to re-encode CAMEO_INTL_2015 as:\n",
    "\n",
    "# New interval variable 'Wealth'\n",
    "# [11, 12, 13, 14, 15] -> 1\n",
    "# [21, 22, 23, 24, 25] -> 2\n",
    "# [31, 32, 33, 34, 35] -> 3\n",
    "# [41, 42, 43, 44, 45] -> 4\n",
    "# [51, 52, 53, 54, 55] -> 5\n",
    "\n",
    "# New binary variable 'Life_Stage'\n",
    "# [11, 21, 31, 41, 51] -> 1\n",
    "# [12, 22, 32, 42, 52] -> 2\n",
    "# [13, 23, 33, 43, 53] -> 3\n",
    "# [14, 24, 34, 44, 54] -> 4\n",
    "# [15, 25, 35, 45, 55] -> 5"
   ]
  },
  {
   "cell_type": "code",
   "execution_count": 33,
   "metadata": {},
   "outputs": [
    {
     "name": "stdout",
     "output_type": "stream",
     "text": [
      "51    133694\n",
      "41     92336\n",
      "24     91158\n",
      "14     62884\n",
      "43     56672\n",
      "54     45391\n",
      "25     39628\n",
      "22     33155\n",
      "23     26750\n",
      "13     26336\n",
      "45     26132\n",
      "55     23955\n",
      "52     20542\n",
      "31     19024\n",
      "34     18524\n",
      "15     16974\n",
      "44     14820\n",
      "12     13249\n",
      "35     10356\n",
      "32     10354\n",
      "33      9935\n",
      "Name: Wealth, dtype: int64\n"
     ]
    }
   ],
   "source": [
    "# Re-encode \"CAMEO_INTL_2015\"\n",
    "\n",
    "azdias['Wealth'] = azdias['CAMEO_INTL_2015']\n",
    "azdias['Wealth'].replace(11, 1, inplace=True)\n",
    "azdias['Wealth'].replace(12, 1, inplace=True)\n",
    "azdias['Wealth'].replace(13, 1, inplace=True)\n",
    "azdias['Wealth'].replace(14, 1, inplace=True)\n",
    "azdias['Wealth'].replace(15, 1, inplace=True)\n",
    "azdias['Wealth'].replace(21, 2, inplace=True)\n",
    "azdias['Wealth'].replace(22, 2, inplace=True)\n",
    "azdias['Wealth'].replace(23, 2, inplace=True)\n",
    "azdias['Wealth'].replace(24, 2, inplace=True)\n",
    "azdias['Wealth'].replace(25, 2, inplace=True)\n",
    "azdias['Wealth'].replace(31, 3, inplace=True)\n",
    "azdias['Wealth'].replace(32, 3, inplace=True)\n",
    "azdias['Wealth'].replace(33, 3, inplace=True)\n",
    "azdias['Wealth'].replace(34, 3, inplace=True)\n",
    "azdias['Wealth'].replace(35, 3, inplace=True)\n",
    "azdias['Wealth'].replace(41, 4, inplace=True)\n",
    "azdias['Wealth'].replace(42, 4, inplace=True)\n",
    "azdias['Wealth'].replace(43, 4, inplace=True)\n",
    "azdias['Wealth'].replace(44, 4, inplace=True)\n",
    "azdias['Wealth'].replace(45, 4, inplace=True)\n",
    "azdias['Wealth'].replace(51, 5, inplace=True)\n",
    "azdias['Wealth'].replace(52, 5, inplace=True)\n",
    "azdias['Wealth'].replace(53, 5, inplace=True)\n",
    "azdias['Wealth'].replace(54, 5, inplace=True)\n",
    "azdias['Wealth'].replace(55, 5, inplace=True)\n",
    "\n",
    "print(azdias['Wealth'].value_counts())"
   ]
  },
  {
   "cell_type": "code",
   "execution_count": 34,
   "metadata": {},
   "outputs": [
    {
     "name": "stdout",
     "output_type": "stream",
     "text": [
      "51    133694\n",
      "41     92336\n",
      "24     91158\n",
      "14     62884\n",
      "43     56672\n",
      "54     45391\n",
      "25     39628\n",
      "22     33155\n",
      "23     26750\n",
      "13     26336\n",
      "45     26132\n",
      "55     23955\n",
      "52     20542\n",
      "31     19024\n",
      "34     18524\n",
      "15     16974\n",
      "44     14820\n",
      "12     13249\n",
      "35     10356\n",
      "32     10354\n",
      "33      9935\n",
      "Name: Life_Stage, dtype: int64\n"
     ]
    }
   ],
   "source": [
    "# Re-encode \"CAMEO_INTL_2015\": Part 2\n",
    "\n",
    "azdias['Life_Stage'] = azdias['CAMEO_INTL_2015']\n",
    "azdias['Life_Stage'].replace(11, 1, inplace=True)\n",
    "azdias['Life_Stage'].replace(12, 2, inplace=True)\n",
    "azdias['Life_Stage'].replace(13, 3, inplace=True)\n",
    "azdias['Life_Stage'].replace(14, 4, inplace=True)\n",
    "azdias['Life_Stage'].replace(15, 5, inplace=True)\n",
    "azdias['Life_Stage'].replace(21, 1, inplace=True)\n",
    "azdias['Life_Stage'].replace(22, 2, inplace=True)\n",
    "azdias['Life_Stage'].replace(23, 3, inplace=True)\n",
    "azdias['Life_Stage'].replace(24, 4, inplace=True)\n",
    "azdias['Life_Stage'].replace(25, 5, inplace=True)\n",
    "azdias['Life_Stage'].replace(31, 1, inplace=True)\n",
    "azdias['Life_Stage'].replace(32, 2, inplace=True)\n",
    "azdias['Life_Stage'].replace(33, 3, inplace=True)\n",
    "azdias['Life_Stage'].replace(34, 4, inplace=True)\n",
    "azdias['Life_Stage'].replace(35, 5, inplace=True)\n",
    "azdias['Life_Stage'].replace(41, 1, inplace=True)\n",
    "azdias['Life_Stage'].replace(42, 2, inplace=True)\n",
    "azdias['Life_Stage'].replace(43, 3, inplace=True)\n",
    "azdias['Life_Stage'].replace(44, 4, inplace=True)\n",
    "azdias['Life_Stage'].replace(45, 5, inplace=True)\n",
    "azdias['Life_Stage'].replace(51, 1, inplace=True)\n",
    "azdias['Life_Stage'].replace(52, 2, inplace=True)\n",
    "azdias['Life_Stage'].replace(53, 3, inplace=True)\n",
    "azdias['Life_Stage'].replace(54, 4, inplace=True)\n",
    "azdias['Life_Stage'].replace(55, 5, inplace=True)\n",
    "\n",
    "print(azdias['Life_Stage'].value_counts())"
   ]
  },
  {
   "cell_type": "markdown",
   "metadata": {},
   "source": [
    "#### Discussion 1.2.2: Engineer Mixed-Type Features\n",
    "\n",
    "These are the mixed-type features:\n",
    "\n",
    "`LP_LEBENSPHASE_FEIN`, `LP_LEBENSPHASE_GROB`, `PRAEGENDE_JUGENDJAHRE`, `WOHNLAGE`, `CAMEO_INTL_2015`, `KBA05_BAUMAX`, `PLZ8_BAUMAX`\n",
    "\n",
    "`PRAEGENDE_JUGENDJAHRE` has been re-encoded as two new attributes: `Decade` and `Movement`.\n",
    "\n",
    "`CAMEO_INTL_2015` has been re-encoded as two new attributes: `Wealth` and `Life_Stage`.\n",
    "\n",
    "`LP_LEBENSPHASE_FEIN` has 40 possible values in fine detail. As `LP_LEBENSPHASE_GROB` is a coarse grouping of the same information (with 12 possible values), I will drop the `LP_LEBENSPHASE_FEIN` attribute.\n",
    "\n",
    "The other attributes have been kept as they are.  "
   ]
  },
  {
   "cell_type": "markdown",
   "metadata": {},
   "source": [
    "#### Step 1.2.3: Complete Feature Selection\n",
    "\n",
    "In order to finish this step up, you need to make sure that your data frame now only has the columns that you want to keep. To summarize, the dataframe should consist of the following:\n",
    "- All numeric, interval, and ordinal type columns from the original dataset.\n",
    "- Binary categorical features (all numerically-encoded).\n",
    "- Engineered features from other multi-level categorical features and mixed features.\n",
    "\n",
    "Make sure that for any new columns that you have engineered, that you've excluded the original columns from the final dataset. Otherwise, their values will interfere with the analysis later on the project. For example, you should not keep \"PRAEGENDE_JUGENDJAHRE\", since its values won't be useful for the algorithm: only the values derived from it in the engineered features you created should be retained. As a reminder, your data should only be from **the subset with few or no missing values**."
   ]
  },
  {
   "cell_type": "code",
   "execution_count": 35,
   "metadata": {},
   "outputs": [
    {
     "data": {
      "text/plain": [
       "(801246, 70)"
      ]
     },
     "execution_count": 35,
     "metadata": {},
     "output_type": "execute_result"
    }
   ],
   "source": [
    "# If there are other re-engineering tasks you need to perform, make sure you\n",
    "# take care of them here. (Dealing with missing data will come in step 2.1.)\n",
    "\n",
    "# Subset the new re-engineered attributes to include only those rows with fewer missing values than the `rows_missing_outliers` \n",
    "# threshold\n",
    "\n",
    "azdias = azdias[azdias.isnull().sum(axis=1) <= rows_missing_outliers]\n",
    "azdias.shape"
   ]
  },
  {
   "cell_type": "code",
   "execution_count": 36,
   "metadata": {},
   "outputs": [
    {
     "data": {
      "text/plain": [
       "(801246, 67)"
      ]
     },
     "execution_count": 36,
     "metadata": {},
     "output_type": "execute_result"
    }
   ],
   "source": [
    "# Do whatever you need to in order to ensure that the dataframe only contains\n",
    "# the columns that should be passed to the algorithm functions.\n",
    "\n",
    "# Drop 'PRAEGENDE_JUGENDJAHRE' variable\n",
    "azdias = azdias.drop('PRAEGENDE_JUGENDJAHRE', axis=1)\n",
    "\n",
    "# Drop 'CAMEO_INTL_2015' variable\n",
    "azdias = azdias.drop('CAMEO_INTL_2015', axis=1)\n",
    "\n",
    "# Drop 'LP_LEBENSPHASE_FEIN' variable\n",
    "azdias = azdias.drop('LP_LEBENSPHASE_FEIN', axis=1)\n",
    "\n",
    "azdias.shape"
   ]
  },
  {
   "cell_type": "markdown",
   "metadata": {},
   "source": [
    "### Step 1.3: Create a Cleaning Function\n",
    "\n",
    "Even though you've finished cleaning up the general population demographics data, it's important to look ahead to the future and realize that you'll need to perform the same cleaning steps on the customer demographics data. In this substep, complete the function below to execute the main feature selection, encoding, and re-engineering steps you performed above. Then, when it comes to looking at the customer data in Step 3, you can just run this function on that DataFrame to get the trimmed dataset in a single step."
   ]
  },
  {
   "cell_type": "code",
   "execution_count": 37,
   "metadata": {},
   "outputs": [],
   "source": [
    "def clean_data(df):\n",
    "    \"\"\"\n",
    "    Perform feature trimming, re-encoding, and engineering for demographics\n",
    "    data\n",
    "    \n",
    "    INPUT: Demographics DataFrame\n",
    "    OUTPUT: Trimmed and cleaned demographics DataFrame\n",
    "    \"\"\"\n",
    "    \n",
    "    # Put in code here to execute all main cleaning steps:\n",
    "    # convert missing value codes into NaNs, ...\n",
    "\n",
    "    # funtion for replacing missing_or_uknown_parsed to np.nan\n",
    "    def convert_to_nan(value):\n",
    "        if str(value) in missing_or_unknown:\n",
    "            return np.nan\n",
    "        return value\n",
    "\n",
    "    for i in range(len(feat_info)):\n",
    "        att = feat_info.iloc[i]['attribute']\n",
    "        missing_or_unknown = feat_info.iloc[i]['missing_or_unknown_parsed']\n",
    "        df[att] = df[att].map(convert_to_nan)\n",
    "        \n",
    "    # remove selected columns and rows, ...\n",
    "\n",
    "    # Remove the outlier columns from the dataset. \n",
    "    df = df.drop(outlier_columns, axis=1)\n",
    "    \n",
    "    # Remove the outlier rows from the dataset\n",
    "    df = df[df.isnull().sum(axis=1) <= rows_missing_outliers]\n",
    "        \n",
    "    # select, re-encode, and engineer column values.\n",
    "    \n",
    "    # drop multilevel attributes\n",
    "    # Drop the multilevel categorical variables from the dataframe\n",
    "    df = df.drop(multilevel, axis=1)\n",
    "    \n",
    "    # Re-encode \"OST_WEST_KZ\"\n",
    "    df['OST_WEST_KZ'].replace('W', 1, inplace=True)\n",
    "    df['OST_WEST_KZ'].replace('O', 2, inplace=True)\n",
    "    \n",
    "    # Re-encode \"PRAEGENDE_JUGENDJAHRE\"\n",
    "    df['Decade'] = df['PRAEGENDE_JUGENDJAHRE']\n",
    "    df['Decade'].replace(1, 1, inplace=True)\n",
    "    df['Decade'].replace(2, 1, inplace=True)\n",
    "    df['Decade'].replace(3, 2, inplace=True)\n",
    "    df['Decade'].replace(4, 2, inplace=True)\n",
    "    df['Decade'].replace(5, 3, inplace=True)\n",
    "    df['Decade'].replace(6, 3, inplace=True)\n",
    "    df['Decade'].replace(7, 3, inplace=True)\n",
    "    df['Decade'].replace(8, 4, inplace=True)\n",
    "    df['Decade'].replace(9, 4, inplace=True)\n",
    "    df['Decade'].replace(10, 5, inplace=True)\n",
    "    df['Decade'].replace(11, 5, inplace=True)\n",
    "    df['Decade'].replace(12, 5, inplace=True)\n",
    "    df['Decade'].replace(13, 5, inplace=True)\n",
    "    df['Decade'].replace(14, 5, inplace=True)\n",
    "    df['Decade'].replace(15, 5, inplace=True)\n",
    "    \n",
    "    # Re-encode \"PRAEGENDE_JUGENDJAHRE\": Part 2\n",
    "    df['Movement'] = df['PRAEGENDE_JUGENDJAHRE']\n",
    "    df['Movement'].replace(1, 2, inplace=True)\n",
    "    df['Movement'].replace(2, 1, inplace=True)\n",
    "    df['Movement'].replace(3, 2, inplace=True)\n",
    "    df['Movement'].replace(4, 1, inplace=True)\n",
    "    df['Movement'].replace(5, 2, inplace=True)\n",
    "    df['Movement'].replace(6, 1, inplace=True)\n",
    "    df['Movement'].replace(7, 1, inplace=True)\n",
    "    df['Movement'].replace(8, 2, inplace=True)\n",
    "    df['Movement'].replace(9, 1, inplace=True)\n",
    "    df['Movement'].replace(10, 2, inplace=True)\n",
    "    df['Movement'].replace(11, 1, inplace=True)\n",
    "    df['Movement'].replace(12, 2, inplace=True)\n",
    "    df['Movement'].replace(13, 1, inplace=True)\n",
    "    df['Movement'].replace(14, 2, inplace=True)\n",
    "    df['Movement'].replace(15, 1, inplace=True)\n",
    "    \n",
    "    # Re-encode \"CAMEO_INTL_2015\"\n",
    "    df['Wealth'] = df['CAMEO_INTL_2015']\n",
    "    df['Wealth'].replace(11, 1, inplace=True)\n",
    "    df['Wealth'].replace(12, 1, inplace=True)\n",
    "    df['Wealth'].replace(13, 1, inplace=True)\n",
    "    df['Wealth'].replace(14, 1, inplace=True)\n",
    "    df['Wealth'].replace(15, 1, inplace=True)\n",
    "    df['Wealth'].replace(21, 2, inplace=True)\n",
    "    df['Wealth'].replace(22, 2, inplace=True)\n",
    "    df['Wealth'].replace(23, 2, inplace=True)\n",
    "    df['Wealth'].replace(24, 2, inplace=True)\n",
    "    df['Wealth'].replace(25, 2, inplace=True)\n",
    "    df['Wealth'].replace(31, 3, inplace=True)\n",
    "    df['Wealth'].replace(32, 3, inplace=True)\n",
    "    df['Wealth'].replace(33, 3, inplace=True)\n",
    "    df['Wealth'].replace(34, 3, inplace=True)\n",
    "    df['Wealth'].replace(35, 3, inplace=True)\n",
    "    df['Wealth'].replace(41, 4, inplace=True)\n",
    "    df['Wealth'].replace(42, 4, inplace=True)\n",
    "    df['Wealth'].replace(43, 4, inplace=True)\n",
    "    df['Wealth'].replace(44, 4, inplace=True)\n",
    "    df['Wealth'].replace(45, 4, inplace=True)\n",
    "    df['Wealth'].replace(51, 5, inplace=True)\n",
    "    df['Wealth'].replace(52, 5, inplace=True)\n",
    "    df['Wealth'].replace(53, 5, inplace=True)\n",
    "    df['Wealth'].replace(54, 5, inplace=True)\n",
    "    df['Wealth'].replace(55, 5, inplace=True)\n",
    "    \n",
    "    # Re-encode \"CAMEO_INTL_2015\": Part 2\n",
    "    df['Life_Stage'] = df['CAMEO_INTL_2015']\n",
    "    df['Life_Stage'].replace(11, 1, inplace=True)\n",
    "    df['Life_Stage'].replace(12, 2, inplace=True)\n",
    "    df['Life_Stage'].replace(13, 3, inplace=True)\n",
    "    df['Life_Stage'].replace(14, 4, inplace=True)\n",
    "    df['Life_Stage'].replace(15, 5, inplace=True)\n",
    "    df['Life_Stage'].replace(21, 1, inplace=True)\n",
    "    df['Life_Stage'].replace(22, 2, inplace=True)\n",
    "    df['Life_Stage'].replace(23, 3, inplace=True)\n",
    "    df['Life_Stage'].replace(24, 4, inplace=True)\n",
    "    df['Life_Stage'].replace(25, 5, inplace=True)\n",
    "    df['Life_Stage'].replace(31, 1, inplace=True)\n",
    "    df['Life_Stage'].replace(32, 2, inplace=True)\n",
    "    df['Life_Stage'].replace(33, 3, inplace=True)\n",
    "    df['Life_Stage'].replace(34, 4, inplace=True)\n",
    "    df['Life_Stage'].replace(35, 5, inplace=True)\n",
    "    df['Life_Stage'].replace(41, 1, inplace=True)\n",
    "    df['Life_Stage'].replace(42, 2, inplace=True)\n",
    "    df['Life_Stage'].replace(43, 3, inplace=True)\n",
    "    df['Life_Stage'].replace(44, 4, inplace=True)\n",
    "    df['Life_Stage'].replace(45, 5, inplace=True)\n",
    "    df['Life_Stage'].replace(51, 1, inplace=True)\n",
    "    df['Life_Stage'].replace(52, 2, inplace=True)\n",
    "    df['Life_Stage'].replace(53, 3, inplace=True)\n",
    "    df['Life_Stage'].replace(54, 4, inplace=True)\n",
    "    df['Life_Stage'].replace(55, 5, inplace=True)\n",
    "\n",
    "    # Drop 'PRAEGENDE_JUGENDJAHRE' variable\n",
    "    df = df.drop('PRAEGENDE_JUGENDJAHRE', axis=1)\n",
    "\n",
    "    # Drop 'CAMEO_INTL_2015' variable\n",
    "    df = df.drop('CAMEO_INTL_2015', axis=1)\n",
    "    \n",
    "    # Drop 'LP_LEBENSPHASE_FEIN' variable\n",
    "    df = df.drop('LP_LEBENSPHASE_FEIN', axis=1)\n",
    "    \n",
    "    # Return the cleaned dataframe.\n",
    "    return df\n",
    "    "
   ]
  },
  {
   "cell_type": "markdown",
   "metadata": {},
   "source": [
    "## Step 2: Feature Transformation\n",
    "\n",
    "### Step 2.1: Apply Feature Scaling\n",
    "\n",
    "Before we apply dimensionality reduction techniques to the data, we need to perform feature scaling so that the principal component vectors are not influenced by the natural differences in scale for features. Starting from this part of the project, you'll want to keep an eye on the [API reference page for sklearn](http://scikit-learn.org/stable/modules/classes.html) to help you navigate to all of the classes and functions that you'll need. In this substep, you'll need to check the following:\n",
    "\n",
    "- sklearn requires that data not have missing values in order for its estimators to work properly. So, before applying the scaler to your data, make sure that you've cleaned the DataFrame of the remaining missing values. This can be as simple as just removing all data points with missing data, or applying an [Imputer](https://scikit-learn.org/0.16/modules/generated/sklearn.preprocessing.Imputer.html) to replace all missing values. You might also try a more complicated procedure where you temporarily remove missing values in order to compute the scaling parameters before re-introducing those missing values and applying imputation. Think about how much missing data you have and what possible effects each approach might have on your analysis, and justify your decision in the discussion section below.\n",
    "- For the actual scaling function, a [StandardScaler](http://scikit-learn.org/stable/modules/generated/sklearn.preprocessing.StandardScaler.html) instance is suggested, scaling each feature to mean 0 and standard deviation 1.\n",
    "- For these classes, you can make use of the `.fit_transform()` method to both fit a procedure to the data as well as apply the transformation to the data at the same time. Don't forget to keep the fit sklearn objects handy, since you'll be applying them to the customer demographics data towards the end of the project."
   ]
  },
  {
   "cell_type": "code",
   "execution_count": 38,
   "metadata": {},
   "outputs": [
    {
     "name": "stdout",
     "output_type": "stream",
     "text": [
      "Current number of dataset rows is: 801246\n",
      "\n",
      "\n",
      "If we were to simply drop nas, the new number of dataset rows would be: 623210\n",
      "\n",
      "\n",
      "i.e. we would retain 78% of the rows\n"
     ]
    }
   ],
   "source": [
    "# If you've not yet cleaned the dataset of all NaN values, then investigate and\n",
    "# do that now.\n",
    "\n",
    "original = azdias.shape[0]\n",
    "print('Current number of dataset rows is:', original)\n",
    "\n",
    "new = azdias.dropna().shape[0]\n",
    "print('\\n')\n",
    "print('If we were to simply drop nas, the new number of dataset rows would be:', new)\n",
    "\n",
    "retained = 100 * new / original\n",
    "print('\\n')\n",
    "print('i.e. we would retain {:.0f}% of the rows'.format(retained))"
   ]
  },
  {
   "cell_type": "code",
   "execution_count": 39,
   "metadata": {},
   "outputs": [],
   "source": [
    "# Given the high percentage of retained rows, use the simple approach of dropping nas\n",
    "azdias = azdias.dropna()"
   ]
  },
  {
   "cell_type": "code",
   "execution_count": 40,
   "metadata": {},
   "outputs": [],
   "source": [
    "# Apply feature scaling to the general population demographics data.\n",
    "\n",
    "ss = StandardScaler()\n",
    "azdias_scaled = pd.DataFrame(ss.fit_transform(azdias), columns=azdias.columns)"
   ]
  },
  {
   "cell_type": "code",
   "execution_count": 41,
   "metadata": {},
   "outputs": [
    {
     "data": {
      "text/html": [
       "<div>\n",
       "<style scoped>\n",
       "    .dataframe tbody tr th:only-of-type {\n",
       "        vertical-align: middle;\n",
       "    }\n",
       "\n",
       "    .dataframe tbody tr th {\n",
       "        vertical-align: top;\n",
       "    }\n",
       "\n",
       "    .dataframe thead th {\n",
       "        text-align: right;\n",
       "    }\n",
       "</style>\n",
       "<table border=\"1\" class=\"dataframe\">\n",
       "  <thead>\n",
       "    <tr style=\"text-align: right;\">\n",
       "      <th></th>\n",
       "      <th>ALTERSKATEGORIE_GROB</th>\n",
       "      <th>ANREDE_KZ</th>\n",
       "      <th>FINANZ_MINIMALIST</th>\n",
       "      <th>FINANZ_SPARER</th>\n",
       "      <th>FINANZ_VORSORGER</th>\n",
       "      <th>FINANZ_ANLEGER</th>\n",
       "      <th>FINANZ_UNAUFFAELLIGER</th>\n",
       "      <th>FINANZ_HAUSBAUER</th>\n",
       "      <th>GREEN_AVANTGARDE</th>\n",
       "      <th>HEALTH_TYP</th>\n",
       "      <th>...</th>\n",
       "      <th>PLZ8_BAUMAX</th>\n",
       "      <th>PLZ8_HHZ</th>\n",
       "      <th>PLZ8_GBZ</th>\n",
       "      <th>ARBEIT</th>\n",
       "      <th>ORTSGR_KLS9</th>\n",
       "      <th>RELAT_AB</th>\n",
       "      <th>Decade</th>\n",
       "      <th>Movement</th>\n",
       "      <th>Wealth</th>\n",
       "      <th>Life_Stage</th>\n",
       "    </tr>\n",
       "  </thead>\n",
       "  <tbody>\n",
       "    <tr>\n",
       "      <th>count</th>\n",
       "      <td>6.232100e+05</td>\n",
       "      <td>6.232100e+05</td>\n",
       "      <td>6.232100e+05</td>\n",
       "      <td>6.232100e+05</td>\n",
       "      <td>6.232100e+05</td>\n",
       "      <td>6.232100e+05</td>\n",
       "      <td>6.232100e+05</td>\n",
       "      <td>6.232100e+05</td>\n",
       "      <td>6.232100e+05</td>\n",
       "      <td>6.232100e+05</td>\n",
       "      <td>...</td>\n",
       "      <td>6.232100e+05</td>\n",
       "      <td>6.232100e+05</td>\n",
       "      <td>6.232100e+05</td>\n",
       "      <td>6.232100e+05</td>\n",
       "      <td>6.232100e+05</td>\n",
       "      <td>6.232100e+05</td>\n",
       "      <td>6.232100e+05</td>\n",
       "      <td>6.232100e+05</td>\n",
       "      <td>6.232100e+05</td>\n",
       "      <td>6.232100e+05</td>\n",
       "    </tr>\n",
       "    <tr>\n",
       "      <th>mean</th>\n",
       "      <td>-2.547629e-16</td>\n",
       "      <td>1.443794e-16</td>\n",
       "      <td>-1.123659e-16</td>\n",
       "      <td>6.772394e-18</td>\n",
       "      <td>-2.670193e-17</td>\n",
       "      <td>-2.234520e-17</td>\n",
       "      <td>-1.260418e-17</td>\n",
       "      <td>-8.202692e-17</td>\n",
       "      <td>1.928536e-17</td>\n",
       "      <td>7.598136e-17</td>\n",
       "      <td>...</td>\n",
       "      <td>1.400654e-17</td>\n",
       "      <td>1.236475e-17</td>\n",
       "      <td>2.048763e-16</td>\n",
       "      <td>3.436363e-17</td>\n",
       "      <td>6.229406e-17</td>\n",
       "      <td>-8.774469e-17</td>\n",
       "      <td>2.611932e-16</td>\n",
       "      <td>1.739502e-16</td>\n",
       "      <td>1.726961e-16</td>\n",
       "      <td>1.726961e-16</td>\n",
       "    </tr>\n",
       "    <tr>\n",
       "      <th>std</th>\n",
       "      <td>1.000001e+00</td>\n",
       "      <td>1.000001e+00</td>\n",
       "      <td>1.000001e+00</td>\n",
       "      <td>1.000001e+00</td>\n",
       "      <td>1.000001e+00</td>\n",
       "      <td>1.000001e+00</td>\n",
       "      <td>1.000001e+00</td>\n",
       "      <td>1.000001e+00</td>\n",
       "      <td>1.000001e+00</td>\n",
       "      <td>1.000001e+00</td>\n",
       "      <td>...</td>\n",
       "      <td>1.000001e+00</td>\n",
       "      <td>1.000001e+00</td>\n",
       "      <td>1.000001e+00</td>\n",
       "      <td>1.000001e+00</td>\n",
       "      <td>1.000001e+00</td>\n",
       "      <td>1.000001e+00</td>\n",
       "      <td>1.000001e+00</td>\n",
       "      <td>1.000001e+00</td>\n",
       "      <td>1.000001e+00</td>\n",
       "      <td>1.000001e+00</td>\n",
       "    </tr>\n",
       "    <tr>\n",
       "      <th>min</th>\n",
       "      <td>-1.746285e+00</td>\n",
       "      <td>-1.022680e+00</td>\n",
       "      <td>-1.512225e+00</td>\n",
       "      <td>-1.141399e+00</td>\n",
       "      <td>-1.765053e+00</td>\n",
       "      <td>-1.221854e+00</td>\n",
       "      <td>-1.139028e+00</td>\n",
       "      <td>-1.588888e+00</td>\n",
       "      <td>-5.536696e-01</td>\n",
       "      <td>-1.591640e+00</td>\n",
       "      <td>...</td>\n",
       "      <td>-6.673367e-01</td>\n",
       "      <td>-2.721004e+00</td>\n",
       "      <td>-2.111169e+00</td>\n",
       "      <td>-2.223025e+00</td>\n",
       "      <td>-1.914219e+00</td>\n",
       "      <td>-1.563998e+00</td>\n",
       "      <td>-2.607816e+00</td>\n",
       "      <td>-1.691142e+00</td>\n",
       "      <td>-1.733026e+00</td>\n",
       "      <td>-1.733026e+00</td>\n",
       "    </tr>\n",
       "    <tr>\n",
       "      <th>25%</th>\n",
       "      <td>-7.720877e-01</td>\n",
       "      <td>-1.022680e+00</td>\n",
       "      <td>-7.773488e-01</td>\n",
       "      <td>-1.141399e+00</td>\n",
       "      <td>-1.045044e+00</td>\n",
       "      <td>-1.221854e+00</td>\n",
       "      <td>-1.139028e+00</td>\n",
       "      <td>-8.565452e-01</td>\n",
       "      <td>-5.536696e-01</td>\n",
       "      <td>-2.734974e-01</td>\n",
       "      <td>...</td>\n",
       "      <td>-6.673367e-01</td>\n",
       "      <td>-6.397014e-01</td>\n",
       "      <td>-3.147649e-01</td>\n",
       "      <td>-2.011789e-01</td>\n",
       "      <td>-6.074378e-01</td>\n",
       "      <td>-8.238443e-01</td>\n",
       "      <td>-8.829520e-01</td>\n",
       "      <td>-1.691142e+00</td>\n",
       "      <td>-8.716029e-01</td>\n",
       "      <td>-8.716029e-01</td>\n",
       "    </tr>\n",
       "    <tr>\n",
       "      <th>50%</th>\n",
       "      <td>2.021099e-01</td>\n",
       "      <td>9.778232e-01</td>\n",
       "      <td>-4.247284e-02</td>\n",
       "      <td>2.198300e-01</td>\n",
       "      <td>3.949737e-01</td>\n",
       "      <td>1.586027e-01</td>\n",
       "      <td>-4.103271e-01</td>\n",
       "      <td>-1.242025e-01</td>\n",
       "      <td>-5.536696e-01</td>\n",
       "      <td>-2.734974e-01</td>\n",
       "      <td>...</td>\n",
       "      <td>-6.673367e-01</td>\n",
       "      <td>-6.397014e-01</td>\n",
       "      <td>-3.147649e-01</td>\n",
       "      <td>-2.011789e-01</td>\n",
       "      <td>-1.718442e-01</td>\n",
       "      <td>-8.369108e-02</td>\n",
       "      <td>-2.051980e-02</td>\n",
       "      <td>5.913164e-01</td>\n",
       "      <td>3.487473e-01</td>\n",
       "      <td>3.487473e-01</td>\n",
       "    </tr>\n",
       "    <tr>\n",
       "      <th>75%</th>\n",
       "      <td>1.176308e+00</td>\n",
       "      <td>9.778232e-01</td>\n",
       "      <td>6.924032e-01</td>\n",
       "      <td>9.004447e-01</td>\n",
       "      <td>1.114982e+00</td>\n",
       "      <td>8.488311e-01</td>\n",
       "      <td>1.047074e+00</td>\n",
       "      <td>6.081403e-01</td>\n",
       "      <td>-5.536696e-01</td>\n",
       "      <td>1.044645e+00</td>\n",
       "      <td>...</td>\n",
       "      <td>6.868231e-01</td>\n",
       "      <td>4.009499e-01</td>\n",
       "      <td>5.834372e-01</td>\n",
       "      <td>8.097443e-01</td>\n",
       "      <td>6.993429e-01</td>\n",
       "      <td>6.564622e-01</td>\n",
       "      <td>8.419124e-01</td>\n",
       "      <td>5.913164e-01</td>\n",
       "      <td>1.066600e+00</td>\n",
       "      <td>1.066600e+00</td>\n",
       "    </tr>\n",
       "    <tr>\n",
       "      <th>max</th>\n",
       "      <td>1.176308e+00</td>\n",
       "      <td>9.778232e-01</td>\n",
       "      <td>1.427279e+00</td>\n",
       "      <td>1.581059e+00</td>\n",
       "      <td>1.114982e+00</td>\n",
       "      <td>1.539060e+00</td>\n",
       "      <td>1.775775e+00</td>\n",
       "      <td>1.340483e+00</td>\n",
       "      <td>1.806131e+00</td>\n",
       "      <td>1.044645e+00</td>\n",
       "      <td>...</td>\n",
       "      <td>2.040983e+00</td>\n",
       "      <td>1.441601e+00</td>\n",
       "      <td>1.481639e+00</td>\n",
       "      <td>1.820667e+00</td>\n",
       "      <td>1.570530e+00</td>\n",
       "      <td>1.396615e+00</td>\n",
       "      <td>8.419124e-01</td>\n",
       "      <td>5.913164e-01</td>\n",
       "      <td>1.353741e+00</td>\n",
       "      <td>1.353741e+00</td>\n",
       "    </tr>\n",
       "  </tbody>\n",
       "</table>\n",
       "<p>8 rows × 67 columns</p>\n",
       "</div>"
      ],
      "text/plain": [
       "       ALTERSKATEGORIE_GROB     ANREDE_KZ  FINANZ_MINIMALIST  FINANZ_SPARER  \\\n",
       "count          6.232100e+05  6.232100e+05       6.232100e+05   6.232100e+05   \n",
       "mean          -2.547629e-16  1.443794e-16      -1.123659e-16   6.772394e-18   \n",
       "std            1.000001e+00  1.000001e+00       1.000001e+00   1.000001e+00   \n",
       "min           -1.746285e+00 -1.022680e+00      -1.512225e+00  -1.141399e+00   \n",
       "25%           -7.720877e-01 -1.022680e+00      -7.773488e-01  -1.141399e+00   \n",
       "50%            2.021099e-01  9.778232e-01      -4.247284e-02   2.198300e-01   \n",
       "75%            1.176308e+00  9.778232e-01       6.924032e-01   9.004447e-01   \n",
       "max            1.176308e+00  9.778232e-01       1.427279e+00   1.581059e+00   \n",
       "\n",
       "       FINANZ_VORSORGER  FINANZ_ANLEGER  FINANZ_UNAUFFAELLIGER  \\\n",
       "count      6.232100e+05    6.232100e+05           6.232100e+05   \n",
       "mean      -2.670193e-17   -2.234520e-17          -1.260418e-17   \n",
       "std        1.000001e+00    1.000001e+00           1.000001e+00   \n",
       "min       -1.765053e+00   -1.221854e+00          -1.139028e+00   \n",
       "25%       -1.045044e+00   -1.221854e+00          -1.139028e+00   \n",
       "50%        3.949737e-01    1.586027e-01          -4.103271e-01   \n",
       "75%        1.114982e+00    8.488311e-01           1.047074e+00   \n",
       "max        1.114982e+00    1.539060e+00           1.775775e+00   \n",
       "\n",
       "       FINANZ_HAUSBAUER  GREEN_AVANTGARDE    HEALTH_TYP      ...       \\\n",
       "count      6.232100e+05      6.232100e+05  6.232100e+05      ...        \n",
       "mean      -8.202692e-17      1.928536e-17  7.598136e-17      ...        \n",
       "std        1.000001e+00      1.000001e+00  1.000001e+00      ...        \n",
       "min       -1.588888e+00     -5.536696e-01 -1.591640e+00      ...        \n",
       "25%       -8.565452e-01     -5.536696e-01 -2.734974e-01      ...        \n",
       "50%       -1.242025e-01     -5.536696e-01 -2.734974e-01      ...        \n",
       "75%        6.081403e-01     -5.536696e-01  1.044645e+00      ...        \n",
       "max        1.340483e+00      1.806131e+00  1.044645e+00      ...        \n",
       "\n",
       "        PLZ8_BAUMAX      PLZ8_HHZ      PLZ8_GBZ        ARBEIT   ORTSGR_KLS9  \\\n",
       "count  6.232100e+05  6.232100e+05  6.232100e+05  6.232100e+05  6.232100e+05   \n",
       "mean   1.400654e-17  1.236475e-17  2.048763e-16  3.436363e-17  6.229406e-17   \n",
       "std    1.000001e+00  1.000001e+00  1.000001e+00  1.000001e+00  1.000001e+00   \n",
       "min   -6.673367e-01 -2.721004e+00 -2.111169e+00 -2.223025e+00 -1.914219e+00   \n",
       "25%   -6.673367e-01 -6.397014e-01 -3.147649e-01 -2.011789e-01 -6.074378e-01   \n",
       "50%   -6.673367e-01 -6.397014e-01 -3.147649e-01 -2.011789e-01 -1.718442e-01   \n",
       "75%    6.868231e-01  4.009499e-01  5.834372e-01  8.097443e-01  6.993429e-01   \n",
       "max    2.040983e+00  1.441601e+00  1.481639e+00  1.820667e+00  1.570530e+00   \n",
       "\n",
       "           RELAT_AB        Decade      Movement        Wealth    Life_Stage  \n",
       "count  6.232100e+05  6.232100e+05  6.232100e+05  6.232100e+05  6.232100e+05  \n",
       "mean  -8.774469e-17  2.611932e-16  1.739502e-16  1.726961e-16  1.726961e-16  \n",
       "std    1.000001e+00  1.000001e+00  1.000001e+00  1.000001e+00  1.000001e+00  \n",
       "min   -1.563998e+00 -2.607816e+00 -1.691142e+00 -1.733026e+00 -1.733026e+00  \n",
       "25%   -8.238443e-01 -8.829520e-01 -1.691142e+00 -8.716029e-01 -8.716029e-01  \n",
       "50%   -8.369108e-02 -2.051980e-02  5.913164e-01  3.487473e-01  3.487473e-01  \n",
       "75%    6.564622e-01  8.419124e-01  5.913164e-01  1.066600e+00  1.066600e+00  \n",
       "max    1.396615e+00  8.419124e-01  5.913164e-01  1.353741e+00  1.353741e+00  \n",
       "\n",
       "[8 rows x 67 columns]"
      ]
     },
     "execution_count": 41,
     "metadata": {},
     "output_type": "execute_result"
    }
   ],
   "source": [
    "azdias_scaled.describe()"
   ]
  },
  {
   "cell_type": "markdown",
   "metadata": {},
   "source": [
    "### Discussion 2.1: Apply Feature Scaling\n",
    "\n",
    "The simple approach of dropping nas from the dataset results in a reduction in the dataset rows from 801,246 to 623,210.  In other words, 78% of the rows are retained.\n",
    "\n",
    "The tradeoff between dropping nas or imputing values is loss of data versus potentially introducing bias into the dataset. Given the reasonably high retention from dropping nas, I have gone for the simpler approach of dropping nas."
   ]
  },
  {
   "cell_type": "markdown",
   "metadata": {},
   "source": [
    "### Step 2.2: Perform Dimensionality Reduction\n",
    "\n",
    "On your scaled data, you are now ready to apply dimensionality reduction techniques.\n",
    "\n",
    "- Use sklearn's [PCA](http://scikit-learn.org/stable/modules/generated/sklearn.decomposition.PCA.html) class to apply principal component analysis on the data, thus finding the vectors of maximal variance in the data. To start, you should not set any parameters (so all components are computed) or set a number of components that is at least half the number of features (so there's enough features to see the general trend in variability).\n",
    "- Check out the ratio of variance explained by each principal component as well as the cumulative variance explained. Try plotting the cumulative or sequential values using matplotlib's [`plot()`](https://matplotlib.org/api/_as_gen/matplotlib.pyplot.plot.html) function. Based on what you find, select a value for the number of transformed features you'll retain for the clustering part of the project.\n",
    "- Once you've made a choice for the number of components to keep, make sure you re-fit a PCA instance to perform the decided-on transformation."
   ]
  },
  {
   "cell_type": "code",
   "execution_count": 42,
   "metadata": {},
   "outputs": [],
   "source": [
    "# Apply PCA to the data.\n",
    "\n",
    "pca = PCA()\n",
    "pca.fit_transform(azdias_scaled);"
   ]
  },
  {
   "cell_type": "code",
   "execution_count": 43,
   "metadata": {},
   "outputs": [
    {
     "data": {
      "image/png": "[encoded data removed]",
      "text/plain": [
       "<matplotlib.figure.Figure at 0x7fad3a8e3748>"
      ]
     },
     "metadata": {
      "needs_background": "light"
     },
     "output_type": "display_data"
    }
   ],
   "source": [
    "# # Investigate the variance accounted for by each principal component.\n",
    "\n",
    "def scree_plot(pca):\n",
    "    \"\"\"\n",
    "    Creates a scree plot of the principal components\n",
    "    \n",
    "    INPUT: pca - an instantiation of sklearn.decomposition.PCA\n",
    "    \n",
    "    OUTPUT: None\n",
    "    \"\"\"\n",
    "    num_components = len(pca.explained_variance_ratio_)\n",
    "    inds = np.arange(num_components)\n",
    "    vals = pca.explained_variance_ratio_\n",
    "    \n",
    "    plt.figure(figsize=(10, 6))\n",
    "    ax = plt.subplot(111)\n",
    "    cumvals = np.cumsum(vals)\n",
    "    ax.bar(inds, vals)\n",
    "    ax.plot(inds, cumvals)\n",
    "        \n",
    "    ax.xaxis.set_tick_params(width=0)\n",
    "    ax.yaxis.set_tick_params(width=2, length=12)\n",
    "    \n",
    "    ax.set_xlabel(\"Principal Component\")\n",
    "    ax.set_ylabel(\"Variance Explained (%)\")\n",
    "    plt.title(\"Explained Variance Per Principal Component\")\n",
    "    \n",
    "scree_plot(pca)"
   ]
  },
  {
   "cell_type": "code",
   "execution_count": 44,
   "metadata": {},
   "outputs": [
    {
     "name": "stdout",
     "output_type": "stream",
     "text": [
      "Number of components: 2 , Explained Variance: 0.312992888121\n",
      "Number of components: 3 , Explained Variance: 0.40531951632\n",
      "Number of components: 4 , Explained Variance: 0.460928348091\n",
      "Number of components: 5 , Explained Variance: 0.498555176374\n",
      "Number of components: 6 , Explained Variance: 0.530078734444\n",
      "Number of components: 7 , Explained Variance: 0.560232141472\n",
      "Number of components: 8 , Explained Variance: 0.586325124755\n",
      "Number of components: 9 , Explained Variance: 0.609333051966\n",
      "Number of components: 10 , Explained Variance: 0.630117815484\n",
      "Number of components: 11 , Explained Variance: 0.649771496881\n",
      "Number of components: 12 , Explained Variance: 0.668381822402\n",
      "Number of components: 13 , Explained Variance: 0.68630497683\n",
      "Number of components: 14 , Explained Variance: 0.702825657042\n",
      "Number of components: 15 , Explained Variance: 0.718718677244\n",
      "Number of components: 16 , Explained Variance: 0.733414549215\n",
      "Number of components: 17 , Explained Variance: 0.748367132848\n",
      "Number of components: 18 , Explained Variance: 0.762127344883\n",
      "Number of components: 19 , Explained Variance: 0.775277322598\n",
      "Number of components: 20 , Explained Variance: 0.787602223704\n",
      "Number of components: 21 , Explained Variance: 0.799431240261\n",
      "Number of components: 22 , Explained Variance: 0.811000610173\n"
     ]
    }
   ],
   "source": [
    "# Determine the number of components that achieves 80% explained variance.\n",
    "n_components = 2\n",
    "explained_variance = 0\n",
    "while explained_variance < 0.80:\n",
    "    pca = PCA(n_components=n_components)\n",
    "    pca.fit_transform(azdias_scaled)\n",
    "    explained_variance = pca.explained_variance_ratio_.sum()\n",
    "    print('Number of components:', n_components, ', Explained Variance:', explained_variance)\n",
    "    n_components += 1"
   ]
  },
  {
   "cell_type": "code",
   "execution_count": 45,
   "metadata": {},
   "outputs": [],
   "source": [
    "# Re-apply PCA to the data while selecting for number of components to retain.\n",
    "\n",
    "pca = PCA(n_components=22)\n",
    "azdias_scaled_pca = pca.fit_transform(azdias_scaled)"
   ]
  },
  {
   "cell_type": "markdown",
   "metadata": {},
   "source": [
    "### Discussion 2.2: Perform Dimensionality Reduction\n",
    "\n",
    "Examining the scree plot shows that at around 80% of explained variance the incremental explained variance achieved by adding more components starts to markedly decline.  Therefore, 80% appears to be a sensible ratio that achieves a good degree of dimensionality reduction, while still explaining a good proportion of the variability in the data.\n",
    "\n",
    "The dimensionality reduction achieved is 67 attributes being reduced to 22 principal components."
   ]
  },
  {
   "cell_type": "markdown",
   "metadata": {},
   "source": [
    "### Step 2.3: Interpret Principal Components\n",
    "\n",
    "Now that we have our transformed principal components, it's a nice idea to check out the weight of each variable on the first few components to see if they can be interpreted in some fashion.\n",
    "\n",
    "As a reminder, each principal component is a unit vector that points in the direction of highest variance (after accounting for the variance captured by earlier principal components). The further a weight is from zero, the more the principal component is in the direction of the corresponding feature. If two features have large weights of the same sign (both positive or both negative), then increases in one tend expect to be associated with increases in the other. To contrast, features with different signs can be expected to show a negative correlation: increases in one variable should result in a decrease in the other.\n",
    "\n",
    "- To investigate the features, you should map each weight to their corresponding feature name, then sort the features according to weight. The most interesting features for each principal component, then, will be those at the beginning and end of the sorted list. Use the data dictionary document to help you understand these most prominent features, their relationships, and what a positive or negative value on the principal component might indicate.\n",
    "- You should investigate and interpret feature associations from the first three principal components in this substep. To help facilitate this, you should write a function that you can call at any time to print the sorted list of feature weights, for the *i*-th principal component. This might come in handy in the next step of the project, when you interpret the tendencies of the discovered clusters."
   ]
  },
  {
   "cell_type": "code",
   "execution_count": 46,
   "metadata": {},
   "outputs": [],
   "source": [
    "def highest_and_lowest(component):\n",
    "    '''\n",
    "    INPUTS: principal_components - components returned by fitting PCA instance to scaled dataset\n",
    "            component_index - the index of the component to be examined\n",
    "    '''\n",
    "    inds = rankdata(component)\n",
    "\n",
    "    largest = np.argmax(inds)\n",
    "    smallest = np.argmin(inds)\n",
    "\n",
    "    return azdias_scaled.columns[largest], azdias_scaled.columns[smallest]"
   ]
  },
  {
   "cell_type": "code",
   "execution_count": 47,
   "metadata": {},
   "outputs": [
    {
     "name": "stdout",
     "output_type": "stream",
     "text": [
      "Most Positive Attribute: PLZ8_ANTG3 , Size: 0.219994002689\n",
      "Most Negative Attribute: MOBI_REGIO , Size: -0.234795124939\n"
     ]
    }
   ],
   "source": [
    "# Map weights for the first principal component to corresponding feature names\n",
    "# and then print the linked values, sorted by weight.\n",
    "# HINT: Try defining a function here or in a new cell that you can reuse in the\n",
    "# other cells.\n",
    "\n",
    "i = 0\n",
    "\n",
    "first_component_largest, first_component_smallest = highest_and_lowest(pca.components_[i])\n",
    "\n",
    "print(\"Most Positive Attribute:\", first_component_largest,\n",
    "      \", Size:\", np.max(pca.components_[i]))\n",
    "print(\"Most Negative Attribute:\", first_component_smallest,\n",
    "       \", Size:\", np.min(pca.components_[i]))"
   ]
  },
  {
   "cell_type": "markdown",
   "metadata": {},
   "source": [
    "The interpretation of a high positive weight on `PLZ8_ANTG3` is a high number of 6-10 family homes.\n",
    "\n",
    "The interpretation of a high negative weight on `MOBI_REGIO` is a negative weight on very little regional mobility, which can overall be interpreted as high regional mobility.\n",
    "\n",
    "To summarize, the first principal component represents:\n",
    "\n",
    "- a macro-cell with a high number of 6-10 family numbers\n",
    "- a region with mobility"
   ]
  },
  {
   "cell_type": "code",
   "execution_count": 48,
   "metadata": {},
   "outputs": [
    {
     "name": "stdout",
     "output_type": "stream",
     "text": [
      "Most Positive Attribute: ALTERSKATEGORIE_GROB , Size: 0.26755004041\n",
      "Most Negative Attribute: SEMIO_REL , Size: -0.270029728163\n"
     ]
    }
   ],
   "source": [
    "# Map weights for the second principal component to corresponding feature names\n",
    "# and then print the linked values, sorted by weight.\n",
    "\n",
    "i = 1\n",
    "\n",
    "second_component_largest, second_component_smallest = highest_and_lowest(pca.components_[i])\n",
    "\n",
    "print(\"Most Positive Attribute:\", second_component_largest,\n",
    "      \", Size:\", np.max(pca.components_[i]))\n",
    "print(\"Most Negative Attribute:\", second_component_smallest,\n",
    "       \", Size:\", np.min(pca.components_[i]))"
   ]
  },
  {
   "cell_type": "markdown",
   "metadata": {},
   "source": [
    "The interpretation of a high positive weight on `ALTERSKATEGORIE_GROB` is estimated age based on name analysis.\n",
    "\n",
    "The interpretation of a high negative weight on `SEMIO_REL` is a negative weight on religious personality type, which can overall be interpreted as 'not religious'.\n",
    "\n",
    "To summarize, the second principal component represents:\n",
    "\n",
    "- older age\n",
    "- not religious"
   ]
  },
  {
   "cell_type": "code",
   "execution_count": 49,
   "metadata": {},
   "outputs": [
    {
     "name": "stdout",
     "output_type": "stream",
     "text": [
      "Most Positive Attribute: SEMIO_VERT , Size: 0.349432777032\n",
      "Most Negative Attribute:lest Component: ANREDE_KZ , Size: -0.367962007491\n"
     ]
    }
   ],
   "source": [
    "# Map weights for the third principal component to corresponding feature names\n",
    "# and then print the linked values, sorted by weight.\n",
    "\n",
    "i = 2\n",
    "\n",
    "third_component_largest, third_component_smallest = highest_and_lowest(pca.components_[i])\n",
    "\n",
    "print(\"Most Positive Attribute:\", third_component_largest,\n",
    "      \", Size:\", np.max(pca.components_[i]))\n",
    "print(\"Most Negative Attribute:lest Component:\", third_component_smallest,\n",
    "       \", Size:\", np.min(pca.components_[i]))"
   ]
  },
  {
   "cell_type": "markdown",
   "metadata": {},
   "source": [
    "The interpretation of a high positive weight on `SEMIO_VERT` is 'dreamful' personality type, but since a higher score represents lower affinity to this personality type, the overall conclusion is 'not dreamful' personality type.\n",
    "\n",
    "The interpretation of a high negative weight on `ANREDE_KZ` is a negative weight on gender type being female, which can overall be interpreted as gender type being male.\n",
    "\n",
    "To summarize, the third principal component represents:\n",
    "\n",
    "- 'not dreamful' personality type\n",
    "- gender type male"
   ]
  },
  {
   "cell_type": "markdown",
   "metadata": {},
   "source": [
    "### Discussion 2.3: Interpret Principal Components\n",
    "\n",
    "\n",
    "I have chosen to focus on the largest positive weight and largest negative weight for each principal component.\n",
    "\n",
    "As long as we consider the largest weights of the principal components in this manner, they offer an effective way to identify segments of the population. \n",
    "\n",
    "The first principal component may be summarized as:\n",
    "- a macro-cell with a high number of 6-10 family numbers\n",
    "- a region with mobility\n",
    "\n",
    "The second principal component may be summarized as:\n",
    "- older age\n",
    "- not religious\n",
    "\n",
    "The third principal component may be summarized as:\n",
    "- 'not dreamful' personality type\n",
    "- gender type male"
   ]
  },
  {
   "cell_type": "markdown",
   "metadata": {},
   "source": [
    "## Step 3: Clustering\n",
    "\n",
    "### Step 3.1: Apply Clustering to General Population\n",
    "\n",
    "You've assessed and cleaned the demographics data, then scaled and transformed them. Now, it's time to see how the data clusters in the principal components space. In this substep, you will apply k-means clustering to the dataset and use the average within-cluster distances from each point to their assigned cluster's centroid to decide on a number of clusters to keep.\n",
    "\n",
    "- Use sklearn's [KMeans](http://scikit-learn.org/stable/modules/generated/sklearn.cluster.KMeans.html#sklearn.cluster.KMeans) class to perform k-means clustering on the PCA-transformed data.\n",
    "- Then, compute the average difference from each point to its assigned cluster's center. **Hint**: The KMeans object's `.score()` method might be useful here, but note that in sklearn, scores tend to be defined so that larger is better. Try applying it to a small, toy dataset, or use an internet search to help your understanding.\n",
    "- Perform the above two steps for a number of different cluster counts. You can then see how the average distance decreases with an increasing number of clusters. However, each additional cluster provides a smaller net benefit. Use this fact to select a final number of clusters in which to group the data. **Warning**: because of the large size of the dataset, it can take a long time for the algorithm to resolve. The more clusters to fit, the longer the algorithm will take. You should test for cluster counts through at least 10 clusters to get the full picture, but you shouldn't need to test for a number of clusters above about 30.\n",
    "- Once you've selected a final number of clusters to use, re-fit a KMeans instance to perform the clustering operation. Make sure that you also obtain the cluster assignments for the general demographics data, since you'll be using them in the final Step 3.3."
   ]
  },
  {
   "cell_type": "code",
   "execution_count": 51,
   "metadata": {},
   "outputs": [
    {
     "name": "stdout",
     "output_type": "stream",
     "text": [
      "1 33.8568917316\n",
      "2 28.1528027791\n",
      "3 25.4892154683\n",
      "4 23.7906292646\n",
      "5 22.6406327645\n",
      "6 21.6230862709\n",
      "7 20.7141991449\n",
      "8 20.0979067126\n",
      "9 19.5140554545\n",
      "10 19.0325332026\n",
      "11 18.4431943211\n",
      "12 18.1964162483\n"
     ]
    }
   ],
   "source": [
    "# Over a number of different cluster counts...\n",
    "centers = []\n",
    "scores = []\n",
    "for k in range(1, 13): \n",
    "    centers.append(k)\n",
    "    # run k-means clustering on the data and...\n",
    "    kmeans = KMeans(n_clusters=k, random_state=42)\n",
    "    kmeans.fit(azdias_scaled_pca)\n",
    "    # compute the average within-cluster distances.\n",
    "    score = kmeans.score(azdias_scaled_pca)\n",
    "    print(k, -score/1000000.0)\n",
    "    scores.append(-score/1000000.0)   "
   ]
  },
  {
   "cell_type": "code",
   "execution_count": 52,
   "metadata": {},
   "outputs": [
    {
     "data": {
      "image/png": "[encoded data removed]",
      "text/plain": [
       "<matplotlib.figure.Figure at 0x7fad39cb9208>"
      ]
     },
     "metadata": {
      "needs_background": "light"
     },
     "output_type": "display_data"
    }
   ],
   "source": [
    "# Investigate the change in within-cluster distance across number of clusters.\n",
    "# HINT: Use matplotlib's plot function to visualize this relationship.\n",
    "plt.plot(centers, scores, linestyle='--', marker='o', color='b');\n",
    "plt.xlabel('K');\n",
    "plt.ylabel('SSE (x $10^6$)');\n",
    "plt.title('SSE vs. K')\n",
    "plt.show()"
   ]
  },
  {
   "cell_type": "code",
   "execution_count": 53,
   "metadata": {},
   "outputs": [],
   "source": [
    "# Re-fit the k-means model with the selected number of clusters and obtain\n",
    "# cluster predictions for the general population demographics data.\n",
    "\n",
    "kmeans = KMeans(n_clusters=11, random_state=42)\n",
    "kmeans.fit(azdias_scaled_pca)\n",
    "general_preds = kmeans.predict(azdias_scaled_pca)"
   ]
  },
  {
   "cell_type": "markdown",
   "metadata": {},
   "source": [
    "### Discussion 3.1: Apply Clustering to General Population\n",
    "\n",
    "The reduction in the squared-error is smoother than in textbook examples of sharp elbow points.\n",
    "\n",
    "Therefore, I employed [Granville's automated elbow point methodology](https://www.datasciencecentral.com/how-to-automatically-determine-the-number-of-clusters-in-your-dat/) to detect the first elbow point.\n",
    "\n",
    "| No. clusters | SSE (millions) | Delta 1 | Delta 2 | Strength\n",
    "| ----- | ----- | ----- | ----- | ----- |\n",
    "| 1 | 33.86 \n",
    "| 2 | 28.15 | 5.71 \n",
    "| 3 | 25.49 | 2.66 | 3.05 | -0.74\n",
    "| 4 | 23.79 | 1.70 | 0.96 | -0.60\n",
    "| 5 | 22.64 | 1.15 | 0.55 | -0.89\n",
    "| 6 | 21.62 | 1.02 | 0.13 | -0.80\n",
    "| 7 | 20.71 | 0.91 | 0.11 | -0.31\n",
    "| 8 | 20.10 | 0.61 | 0.30 | -0.57\n",
    "| 9 | 19.51 | 0.59 | 0.02 | -0.37\n",
    "| 10 | 19.03 | 0.48 | 0.11 | -0.70\n",
    "| 11 | 18.44 | 0.59 | -0.11 | 0.11\n",
    "| 12 | 18.20 | 0.24 | 0.35 | \n",
    "\n",
    "\n",
    "\n",
    "The `Strength` moves from negative to positive at `k=11` clusters, therefore `k=11` is identified as the elbow point in the data."
   ]
  },
  {
   "cell_type": "markdown",
   "metadata": {},
   "source": [
    "### Step 3.2: Apply All Steps to the Customer Data\n",
    "\n",
    "Now that you have clusters and cluster centers for the general population, it's time to see how the customer data maps on to those clusters. Take care to not confuse this for re-fitting all of the models to the customer data. Instead, you're going to use the fits from the general population to clean, transform, and cluster the customer data. In the last step of the project, you will interpret how the general population fits apply to the customer data.\n",
    "\n",
    "- Don't forget when loading in the customers data, that it is semicolon (`;`) delimited.\n",
    "- Apply the same feature wrangling, selection, and engineering steps to the customer demographics using the `clean_data()` function you created earlier. (You can assume that the customer demographics data has similar meaning behind missing data patterns as the general demographics data.)\n",
    "- Use the sklearn objects from the general demographics data, and apply their transformations to the customers data. That is, you should not be using a `.fit()` or `.fit_transform()` method to re-fit the old objects, nor should you be creating new sklearn objects! Carry the data through the feature scaling, PCA, and clustering steps, obtaining cluster assignments for all of the data in the customer demographics data."
   ]
  },
  {
   "cell_type": "code",
   "execution_count": 54,
   "metadata": {},
   "outputs": [],
   "source": [
    "# Load in the customer demographics data.\n",
    "customers = pd.read_csv('Udacity_CUSTOMERS_Subset.csv', sep=';')"
   ]
  },
  {
   "cell_type": "code",
   "execution_count": 55,
   "metadata": {},
   "outputs": [],
   "source": [
    "# Apply preprocessing, feature transformation, and clustering from the general\n",
    "# demographics onto the customer data, obtaining cluster predictions for the\n",
    "# customer demographics data.\n",
    "\n",
    "customers_cleaned = clean_data(customers).dropna()\n",
    "\n",
    "# Re-use ss object from population dataset\n",
    "customers_scaled = ss.transform(customers_cleaned)\n",
    "\n",
    "# Re-use pca object from population dataset\n",
    "customers_pca = pca.transform(customers_scaled)\n",
    "\n",
    "# Re-use kmeans object from population dataset\n",
    "customers_preds = kmeans.predict(customers_pca)"
   ]
  },
  {
   "cell_type": "markdown",
   "metadata": {},
   "source": [
    "### Step 3.3: Compare Customer Data to Demographics Data\n",
    "\n",
    "At this point, you have clustered data based on demographics of the general population of Germany, and seen how the customer data for a mail-order sales company maps onto those demographic clusters. In this final substep, you will compare the two cluster distributions to see where the strongest customer base for the company is.\n",
    "\n",
    "Consider the proportion of persons in each cluster for the general population, and the proportions for the customers. If we think the company's customer base to be universal, then the cluster assignment proportions should be fairly similar between the two. If there are only particular segments of the population that are interested in the company's products, then we should see a mismatch from one to the other. If there is a higher proportion of persons in a cluster for the customer data compared to the general population (e.g. 5% of persons are assigned to a cluster for the general population, but 15% of the customer data is closest to that cluster's centroid) then that suggests the people in that cluster to be a target audience for the company. On the other hand, the proportion of the data in a cluster being larger in the general population than the customer data (e.g. only 2% of customers closest to a population centroid that captures 6% of the data) suggests that group of persons to be outside of the target demographics.\n",
    "\n",
    "Take a look at the following points in this step:\n",
    "\n",
    "- Compute the proportion of data points in each cluster for the general population and the customer data. Visualizations will be useful here: both for the individual dataset proportions, but also to visualize the ratios in cluster representation between groups. Seaborn's [`countplot()`](https://seaborn.pydata.org/generated/seaborn.countplot.html) or [`barplot()`](https://seaborn.pydata.org/generated/seaborn.barplot.html) function could be handy.\n",
    "  - Recall the analysis you performed in step 1.1.3 of the project, where you separated out certain data points from the dataset if they had more than a specified threshold of missing values. If you found that this group was qualitatively different from the main bulk of the data, you should treat this as an additional data cluster in this analysis. Make sure that you account for the number of data points in this subset, for both the general population and customer datasets, when making your computations!\n",
    "- Which cluster or clusters are overrepresented in the customer dataset compared to the general population? Select at least one such cluster and infer what kind of people might be represented by that cluster. Use the principal component interpretations from step 2.3 or look at additional components to help you make this inference. Alternatively, you can use the `.inverse_transform()` method of the PCA and StandardScaler objects to transform centroids back to the original data space and interpret the retrieved values directly.\n",
    "- Perform a similar investigation for the underrepresented clusters. Which cluster or clusters are underrepresented in the customer dataset compared to the general population, and what kinds of people are typified by these clusters?"
   ]
  },
  {
   "cell_type": "code",
   "execution_count": 56,
   "metadata": {},
   "outputs": [],
   "source": [
    "# Compare the proportion of data in each cluster for the customer data to the\n",
    "# proportion of data in each cluster for the general population.\n",
    "\n",
    "_, general_counts = np.unique(general_preds, return_counts=True)\n",
    "general_proportions = general_counts / np.sum(general_counts)\n",
    "\n",
    "_, customers_counts = np.unique(customers_preds, return_counts=True)\n",
    "customers_proportions = customers_counts / np.sum(customers_counts)\n",
    "\n",
    "differences = general_proportions - customers_proportions"
   ]
  },
  {
   "cell_type": "code",
   "execution_count": 57,
   "metadata": {},
   "outputs": [
    {
     "data": {
      "image/png": "[encoded data removed]",
      "text/plain": [
       "<matplotlib.figure.Figure at 0x7fad39fa4c50>"
      ]
     },
     "metadata": {
      "needs_background": "light"
     },
     "output_type": "display_data"
    }
   ],
   "source": [
    "sns.countplot(general_preds, color='c')\n",
    "plt.xlabel('Cluster Index')\n",
    "plt.title('Cluster Count Plot for General Population')\n",
    "plt.show();"
   ]
  },
  {
   "cell_type": "code",
   "execution_count": 58,
   "metadata": {},
   "outputs": [
    {
     "data": {
      "image/png": "[encoded data removed]",
      "text/plain": [
       "<matplotlib.figure.Figure at 0x7fad3a80e0b8>"
      ]
     },
     "metadata": {
      "needs_background": "light"
     },
     "output_type": "display_data"
    }
   ],
   "source": [
    "sns.countplot(customers_preds, color='c')\n",
    "plt.xlabel('Cluster Index')\n",
    "plt.title('Cluster Count Plot for Customers')\n",
    "plt.show();"
   ]
  },
  {
   "cell_type": "code",
   "execution_count": 59,
   "metadata": {},
   "outputs": [
    {
     "name": "stdout",
     "output_type": "stream",
     "text": [
      "For Cluster Index 0, general population proportion - customer proportion = -0.0169\n",
      "For Cluster Index 1, general population proportion - customer proportion = 0.0785\n",
      "For Cluster Index 2, general population proportion - customer proportion = 0.0279\n",
      "For Cluster Index 3, general population proportion - customer proportion = -0.2765\n",
      "For Cluster Index 4, general population proportion - customer proportion = 0.0617\n",
      "For Cluster Index 5, general population proportion - customer proportion = -0.0646\n",
      "For Cluster Index 6, general population proportion - customer proportion = 0.0253\n",
      "For Cluster Index 7, general population proportion - customer proportion = -0.0485\n",
      "For Cluster Index 8, general population proportion - customer proportion = 0.0447\n",
      "For Cluster Index 9, general population proportion - customer proportion = 0.0804\n",
      "For Cluster Index 10, general population proportion - customer proportion = 0.0880\n"
     ]
    }
   ],
   "source": [
    "for idx, d in enumerate(differences):\n",
    "    print(\"For Cluster Index {}, general population proportion - customer proportion = {:.4f}\".format(idx, d))"
   ]
  },
  {
   "cell_type": "markdown",
   "metadata": {},
   "source": [
    "The most overrepresented cluster in the customers data is the fourth cluster (index 3), in which the proportion in the customer data is a large 27.65% higher than in the general population.\n",
    "\n",
    "The most underrepresented cluster in the customers data is the eleventh cluster (index 10), in which the proportion in the general population is 8.80% higher than in the customer data."
   ]
  },
  {
   "cell_type": "code",
   "execution_count": 60,
   "metadata": {},
   "outputs": [
    {
     "name": "stdout",
     "output_type": "stream",
     "text": [
      "[-3.43824559  0.10843335  2.75313344  2.16497693  0.02090046 -0.12979161\n",
      " -0.17764207 -0.03876341  0.1836509  -0.29303074  0.02935082  0.03952878\n",
      " -0.11236405 -0.25970734 -0.29106844 -0.00765066  0.10817229  0.10387868\n",
      " -0.19235027 -0.19390962  0.15348119 -0.01969537]\n"
     ]
    }
   ],
   "source": [
    "# What kinds of people are part of a cluster that is overrepresented in the\n",
    "# customer data compared to the general population?\n",
    "\n",
    "i = 3\n",
    "\n",
    "centroid = kmeans.cluster_centers_[i]\n",
    "\n",
    "print(centroid)"
   ]
  },
  {
   "cell_type": "code",
   "execution_count": 61,
   "metadata": {},
   "outputs": [
    {
     "data": {
      "text/plain": [
       "array([ 0.49489985, -0.882262  ,  1.27838038, -0.7407726 ,  0.57668628,\n",
       "       -0.92871345, -0.30656903, -0.8613812 ,  1.60576945, -0.18074979,\n",
       "        0.59233136,  0.35849788,  0.57230058,  0.37668605, -0.10095418,\n",
       "       -0.05469685,  1.00184969,  0.44985872, -0.23596603,  0.34806936,\n",
       "       -0.71758115, -0.73073024, -0.64900901, -0.83979221, -0.47221831,\n",
       "       -0.37186138,  0.00519147, -0.11020222,  0.45141886, -0.07667376,\n",
       "       -1.35339355,  0.02407004,  0.32223759, -0.41750528, -0.08575064,\n",
       "        0.25751205,  0.05796367, -0.31514394, -0.45453659,  0.89177972,\n",
       "       -0.12735039, -0.53262857, -0.48983219,  0.7351051 , -0.07423494,\n",
       "        0.00528575,  0.03269166,  0.25451238, -0.63924537,  0.84653992,\n",
       "        0.2694792 , -0.59146957,  0.24782989,  0.57714389, -0.26319818,\n",
       "       -0.45695715, -0.47151034, -0.51160584,  0.09949818,  0.51451667,\n",
       "       -0.16973461,  0.0166385 , -0.11127108, -0.54257254, -1.60189157,\n",
       "       -0.80168759, -0.80168759])"
      ]
     },
     "execution_count": 61,
     "metadata": {},
     "output_type": "execute_result"
    }
   ],
   "source": [
    "# The centroid for the overrepresented cluster is an array of weights on the 23 principal components we found from the \n",
    "# population data.\n",
    "\n",
    "# We can construct a latent factor from this centroid by computing the weighted sum of principal components:\n",
    "\n",
    "latent_factor_over = np.zeros(azdias_scaled.shape[1])\n",
    "\n",
    "for i in range(len(centroid)):\n",
    "    latent_factor_over += centroid[i] * pca.components_[i]\n",
    "    \n",
    "latent_factor_over"
   ]
  },
  {
   "cell_type": "code",
   "execution_count": 62,
   "metadata": {},
   "outputs": [
    {
     "name": "stdout",
     "output_type": "stream",
     "text": [
      "Most Positive Attribute: GREEN_AVANTGARDE , Size: 1.60576944783\n",
      "Most Negative Attribute: Movement , Size: -1.60189157403\n"
     ]
    }
   ],
   "source": [
    "# Now use the function from section 2.3 to identify the largest positive and largest negative weights in the latent factor\n",
    "# corresponding to the overrepresented group\n",
    "\n",
    "first_component_largest, first_component_smallest = highest_and_lowest(latent_factor_over)\n",
    "\n",
    "print(\"Most Positive Attribute:\", first_component_largest,\n",
    "      \", Size:\", np.max(latent_factor_over))\n",
    "print(\"Most Negative Attribute:\", first_component_smallest,\n",
    "       \", Size:\", np.min(latent_factor_over))"
   ]
  },
  {
   "cell_type": "markdown",
   "metadata": {},
   "source": [
    "The interpretation of a high positive weight on `GREEN_AVANTGARDE` is membership in an environmental sustainability group as part of youth.\n",
    "\n",
    "The interpretation of a high negative weight on `Movement` is a negative weight on the dominating movement in a person's youth being 'mainstream', which can overall be interpreted as the person' dominant movement during their youth being 'avantgarde'.\n",
    "\n",
    "Overall, we see a consistent picture emerging for the kind of person in the overrepresented group:\n",
    "\n",
    "- membership in an environmental sustainability group as part of their youth\n",
    "- 'avantgarde' being their dominant movement of their youth"
   ]
  },
  {
   "cell_type": "code",
   "execution_count": 63,
   "metadata": {},
   "outputs": [
    {
     "name": "stdout",
     "output_type": "stream",
     "text": [
      "[  4.54313166e+00  -1.56917626e+00  -2.81681023e+00   4.61268080e-01\n",
      "   1.53117655e-02   8.64241714e-03  -2.26774047e-01  -2.89050998e-01\n",
      "   6.30067916e-01   5.53932549e-02  -2.02931188e-01  -1.01698263e-01\n",
      "   3.90296749e-02  -2.21107524e-03  -2.03750280e-01   9.65447901e-03\n",
      "  -1.43587402e-01   1.87436166e-01  -2.15881320e-02   1.13767270e-01\n",
      "   3.47975771e-03  -4.51199633e-02]\n"
     ]
    }
   ],
   "source": [
    "# What kinds of people are part of a cluster that is underrepresented in the\n",
    "# customer data compared to the general population?\n",
    "\n",
    "i = 10\n",
    "\n",
    "centroid = kmeans.cluster_centers_[i]\n",
    "\n",
    "print(centroid)"
   ]
  },
  {
   "cell_type": "code",
   "execution_count": 64,
   "metadata": {},
   "outputs": [
    {
     "data": {
      "text/plain": [
       "array([ -1.26866246e+00,   1.03498797e+00,  -1.41196643e+00,\n",
       "         1.04867422e+00,  -8.95264174e-01,   9.19964353e-01,\n",
       "         7.57546427e-01,   7.95434117e-01,  -4.57737327e-01,\n",
       "        -3.21507108e-02,  -4.02428965e-01,  -5.87329224e-01,\n",
       "        -4.49862201e-01,  -8.06478589e-02,   8.00810257e-01,\n",
       "         6.82910601e-01,  -1.08463869e+00,  -8.63262003e-01,\n",
       "        -2.97355898e-01,   3.34787857e-02,   1.54641381e+00,\n",
       "         5.81868732e-01,   9.19579245e-01,   1.04013021e+00,\n",
       "         1.21755237e+00,   1.26458440e+00,   8.12451271e-03,\n",
       "        -2.06758234e-01,  -2.15810245e-01,  -5.19026621e-02,\n",
       "         7.62738272e-01,  -1.45787883e-01,  -4.11656626e-01,\n",
       "         4.15209289e-01,   3.31686063e-02,  -5.86518516e-01,\n",
       "        -8.95730091e-02,   1.81851372e-01,  -3.19476647e-01,\n",
       "        -7.87194702e-01,   9.35218512e-04,   4.92386742e-01,\n",
       "         5.26822037e-01,  -7.53541691e-01,  -4.17170816e-01,\n",
       "         6.96583555e-01,  -5.62451772e-01,  -3.93837673e-01,\n",
       "         1.70600635e-01,  -8.48449175e-01,   1.86965953e-01,\n",
       "         2.92593688e-01,  -3.11899822e-01,  -8.27577503e-01,\n",
       "         5.64298384e-01,   8.36570099e-01,   8.10448685e-01,\n",
       "         7.90211471e-01,   1.27501992e-01,  -6.35148080e-01,\n",
       "         4.96450420e-01,   7.06345390e-01,   4.67962285e-01,\n",
       "         7.95064587e-01,   4.79767310e-01,   6.98907236e-01,\n",
       "         6.98907236e-01])"
      ]
     },
     "execution_count": 64,
     "metadata": {},
     "output_type": "execute_result"
    }
   ],
   "source": [
    "# The centroid for the underrepresented cluster is an array of weights on the 23 principal components we found from the \n",
    "# population data.\n",
    "\n",
    "# We can construct a latent factor from this centroid by computing the weighted sum of principal components:\n",
    "\n",
    "latent_factor_under = np.zeros(azdias_scaled.shape[1])\n",
    "\n",
    "for i in range(len(centroid)):\n",
    "    latent_factor_under += centroid[i] * pca.components_[i]\n",
    "    \n",
    "latent_factor_under"
   ]
  },
  {
   "cell_type": "code",
   "execution_count": 65,
   "metadata": {},
   "outputs": [
    {
     "name": "stdout",
     "output_type": "stream",
     "text": [
      "Most Positive Attribute: SEMIO_RAT , Size: 1.54641380799\n",
      "Most Negative Attribute: FINANZ_MINIMALIST , Size: -1.41196643313\n"
     ]
    }
   ],
   "source": [
    "# Now use the function from section 2.3 to identify the largest positive and largest negative weights in the latent factor\n",
    "# corresponding to the underrepresented group\n",
    "\n",
    "first_component_largest, first_component_smallest = highest_and_lowest(latent_factor_under)\n",
    "\n",
    "print(\"Most Positive Attribute:\", first_component_largest,\n",
    "      \", Size:\", np.max(latent_factor_under))\n",
    "print(\"Most Negative Attribute:\", first_component_smallest,\n",
    "       \", Size:\", np.min(latent_factor_under))"
   ]
  },
  {
   "cell_type": "markdown",
   "metadata": {},
   "source": [
    "The interpretation of a high positive weight on `SEMIO_RAT` is 'rational' personality type, but since higher scores indicate lower affinity, the overall conclusion is 'not rational' personalty type.\n",
    "\n",
    "The interpretation of a high negative weight on `FINANZ_MINIMALIST` is a negative weight on 'low financial interest.  But higher scores represent lower association with the type, so we have a negative weight on 'not low financial interest'.  Finally, as we have a negative weight, the overall interpretation is 'not not low financial interest', i.e. 'low financial interest'.\n",
    "\n",
    "Overall, we see a consistent picture emerging for the kind of person in the underrepresented group:\n",
    "\n",
    "- 'not rational' personality type\n",
    "- low financial interest"
   ]
  },
  {
   "cell_type": "markdown",
   "metadata": {},
   "source": [
    "### Discussion 3.3: Compare Customer Data to Demographics Data\n",
    "\n",
    "The first step of the analysis is to use the cleaning function from Section 1.3 for the customers dataset.\n",
    "\n",
    "Then the saved standard scaler, principal components and kmeans objects are used to identify the clusters for the customers dataset. Note that the fitting step occurs on the population set only.\n",
    "\n",
    "In step 3, we identify the proportions of people in each cluster and identify the clusters in which people in the customers dataset are overrepresented and underrepresented.  The overepresentation in the most overrepresented cluster is more dramatic with a 27.7% higher proportion than in the general population, whereas the most underrepresented cluster has a smaller difference of 8.8%.\n",
    "\n",
    "Step 3 suggests we are likely to draw more actionable insights from the overrepresented cluster.\n",
    "\n",
    "In Step 4, we identify the centroids of the overrepresented and underrepresented clusters and convert these into latent factors by interpreting the centroids as weights to attach to the principal components identified in the population data.\n",
    "\n",
    "Finally, we identify the highest positive and highest negative weights in the latent factors and map these to the descriptions given in the Data Dictionary.\n",
    "\n",
    "Our overall conclusions are:\n",
    "\n",
    "#### Kinds of people overrepresented in the customers data set\n",
    "- membership in an environmental sustainability group as part of their youth\n",
    "- 'avantgarde' being their dominant movement of their youth \n",
    "\n",
    "#### Kinds of people underrepresented in the customers data set\n",
    "- 'not rational' personality type\n",
    "- 'low financial interest'"
   ]
  },
  {
   "cell_type": "markdown",
   "metadata": {},
   "source": [
    "> Congratulations on making it this far in the project! Before you finish, make sure to check through the entire notebook from top to bottom to make sure that your analysis follows a logical flow and all of your findings are documented in **Discussion** cells. Once you've checked over all of your work, you should export the notebook as an HTML document to submit for evaluation. You can do this from the menu, navigating to **File -> Download as -> HTML (.html)**. You will submit both that document and this notebook for your project submission."
   ]
  },
  {
   "cell_type": "code",
   "execution_count": null,
   "metadata": {},
   "outputs": [],
   "source": []
  }
 ],
 "metadata": {
  "kernelspec": {
   "display_name": "Python 3",
   "language": "python",
   "name": "python3"
  },
  "language_info": {
   "codemirror_mode": {
    "name": "ipython",
    "version": 3
   },
   "file_extension": ".py",
   "mimetype": "text/x-python",
   "name": "python",
   "nbconvert_exporter": "python",
   "pygments_lexer": "ipython3",
   "version": "3.6.3"
  }
 },
 "nbformat": 4,
 "nbformat_minor": 2
}
